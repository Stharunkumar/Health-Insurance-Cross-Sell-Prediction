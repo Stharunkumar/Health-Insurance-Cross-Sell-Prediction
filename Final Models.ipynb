{
 "cells": [
  {
   "cell_type": "markdown",
   "metadata": {},
   "source": [
    "# Health Insurance Cross Sell prediction"
   ]
  },
  {
   "cell_type": "code",
   "execution_count": 1,
   "metadata": {},
   "outputs": [],
   "source": [
    "#Import required libraries\n",
    "import pandas as pd\n",
    "import numpy as np\n",
    "import matplotlib.pyplot as plt\n",
    "import seaborn as sns\n",
    "\n",
    "from warnings import filterwarnings\n",
    "filterwarnings('ignore')\n",
    "\n",
    "from sklearn.preprocessing import PowerTransformer\n",
    "pt = PowerTransformer()\n",
    "\n",
    "from scipy import stats\n",
    "\n",
    "from sklearn.model_selection import train_test_split\n",
    "\n",
    "#Import (Z-Scaler) StandardScaler\n",
    "from sklearn.preprocessing import StandardScaler\n",
    "ss = StandardScaler()"
   ]
  },
  {
   "cell_type": "code",
   "execution_count": 2,
   "metadata": {},
   "outputs": [
    {
     "data": {
      "text/html": [
       "<div>\n",
       "<style scoped>\n",
       "    .dataframe tbody tr th:only-of-type {\n",
       "        vertical-align: middle;\n",
       "    }\n",
       "\n",
       "    .dataframe tbody tr th {\n",
       "        vertical-align: top;\n",
       "    }\n",
       "\n",
       "    .dataframe thead th {\n",
       "        text-align: right;\n",
       "    }\n",
       "</style>\n",
       "<table border=\"1\" class=\"dataframe\">\n",
       "  <thead>\n",
       "    <tr style=\"text-align: right;\">\n",
       "      <th></th>\n",
       "      <th>id</th>\n",
       "      <th>Gender</th>\n",
       "      <th>Age</th>\n",
       "      <th>Driving_License</th>\n",
       "      <th>Region_Code</th>\n",
       "      <th>Previously_Insured</th>\n",
       "      <th>Vehicle_Age</th>\n",
       "      <th>Vehicle_Damage</th>\n",
       "      <th>Annual_Premium</th>\n",
       "      <th>Policy_Sales_Channel</th>\n",
       "      <th>Vintage</th>\n",
       "      <th>Response</th>\n",
       "    </tr>\n",
       "  </thead>\n",
       "  <tbody>\n",
       "    <tr>\n",
       "      <th>0</th>\n",
       "      <td>1</td>\n",
       "      <td>Male</td>\n",
       "      <td>44</td>\n",
       "      <td>1</td>\n",
       "      <td>28.0</td>\n",
       "      <td>0</td>\n",
       "      <td>&gt; 2 Years</td>\n",
       "      <td>Yes</td>\n",
       "      <td>40454.0</td>\n",
       "      <td>26.0</td>\n",
       "      <td>217</td>\n",
       "      <td>1</td>\n",
       "    </tr>\n",
       "    <tr>\n",
       "      <th>1</th>\n",
       "      <td>2</td>\n",
       "      <td>Male</td>\n",
       "      <td>76</td>\n",
       "      <td>1</td>\n",
       "      <td>3.0</td>\n",
       "      <td>0</td>\n",
       "      <td>1-2 Year</td>\n",
       "      <td>No</td>\n",
       "      <td>33536.0</td>\n",
       "      <td>26.0</td>\n",
       "      <td>183</td>\n",
       "      <td>0</td>\n",
       "    </tr>\n",
       "    <tr>\n",
       "      <th>2</th>\n",
       "      <td>3</td>\n",
       "      <td>Male</td>\n",
       "      <td>47</td>\n",
       "      <td>1</td>\n",
       "      <td>28.0</td>\n",
       "      <td>0</td>\n",
       "      <td>&gt; 2 Years</td>\n",
       "      <td>Yes</td>\n",
       "      <td>38294.0</td>\n",
       "      <td>26.0</td>\n",
       "      <td>27</td>\n",
       "      <td>1</td>\n",
       "    </tr>\n",
       "    <tr>\n",
       "      <th>3</th>\n",
       "      <td>4</td>\n",
       "      <td>Male</td>\n",
       "      <td>21</td>\n",
       "      <td>1</td>\n",
       "      <td>11.0</td>\n",
       "      <td>1</td>\n",
       "      <td>&lt; 1 Year</td>\n",
       "      <td>No</td>\n",
       "      <td>28619.0</td>\n",
       "      <td>152.0</td>\n",
       "      <td>203</td>\n",
       "      <td>0</td>\n",
       "    </tr>\n",
       "    <tr>\n",
       "      <th>4</th>\n",
       "      <td>5</td>\n",
       "      <td>Female</td>\n",
       "      <td>29</td>\n",
       "      <td>1</td>\n",
       "      <td>41.0</td>\n",
       "      <td>1</td>\n",
       "      <td>&lt; 1 Year</td>\n",
       "      <td>No</td>\n",
       "      <td>27496.0</td>\n",
       "      <td>152.0</td>\n",
       "      <td>39</td>\n",
       "      <td>0</td>\n",
       "    </tr>\n",
       "  </tbody>\n",
       "</table>\n",
       "</div>"
      ],
      "text/plain": [
       "   id  Gender  Age  Driving_License  Region_Code  Previously_Insured  \\\n",
       "0   1    Male   44                1         28.0                   0   \n",
       "1   2    Male   76                1          3.0                   0   \n",
       "2   3    Male   47                1         28.0                   0   \n",
       "3   4    Male   21                1         11.0                   1   \n",
       "4   5  Female   29                1         41.0                   1   \n",
       "\n",
       "  Vehicle_Age Vehicle_Damage  Annual_Premium  Policy_Sales_Channel  Vintage  \\\n",
       "0   > 2 Years            Yes         40454.0                  26.0      217   \n",
       "1    1-2 Year             No         33536.0                  26.0      183   \n",
       "2   > 2 Years            Yes         38294.0                  26.0       27   \n",
       "3    < 1 Year             No         28619.0                 152.0      203   \n",
       "4    < 1 Year             No         27496.0                 152.0       39   \n",
       "\n",
       "   Response  \n",
       "0         1  \n",
       "1         0  \n",
       "2         1  \n",
       "3         0  \n",
       "4         0  "
      ]
     },
     "execution_count": 2,
     "metadata": {},
     "output_type": "execute_result"
    }
   ],
   "source": [
    "#Read dataset from the local drive\n",
    "\n",
    "df = pd.read_csv('Health Insurance Cross Sell Prediction.csv')\n",
    "df.head()"
   ]
  },
  {
   "cell_type": "code",
   "execution_count": 3,
   "metadata": {},
   "outputs": [],
   "source": [
    "df[['Driving_License', 'Previously_Insured', 'Response']] = df[['Driving_License', 'Previously_Insured', 'Response']].astype('object')"
   ]
  },
  {
   "cell_type": "code",
   "execution_count": 4,
   "metadata": {},
   "outputs": [
    {
     "name": "stdout",
     "output_type": "stream",
     "text": [
      "<class 'pandas.core.frame.DataFrame'>\n",
      "RangeIndex: 381109 entries, 0 to 381108\n",
      "Data columns (total 12 columns):\n",
      " #   Column                Non-Null Count   Dtype  \n",
      "---  ------                --------------   -----  \n",
      " 0   id                    381109 non-null  int64  \n",
      " 1   Gender                381109 non-null  object \n",
      " 2   Age                   381109 non-null  int64  \n",
      " 3   Driving_License       381109 non-null  object \n",
      " 4   Region_Code           381109 non-null  float64\n",
      " 5   Previously_Insured    381109 non-null  object \n",
      " 6   Vehicle_Age           381109 non-null  object \n",
      " 7   Vehicle_Damage        381109 non-null  object \n",
      " 8   Annual_Premium        381109 non-null  float64\n",
      " 9   Policy_Sales_Channel  381109 non-null  float64\n",
      " 10  Vintage               381109 non-null  int64  \n",
      " 11  Response              381109 non-null  object \n",
      "dtypes: float64(3), int64(3), object(6)\n",
      "memory usage: 34.9+ MB\n"
     ]
    }
   ],
   "source": [
    "df.info()"
   ]
  },
  {
   "cell_type": "code",
   "execution_count": 5,
   "metadata": {},
   "outputs": [
    {
     "data": {
      "text/plain": [
       "(381109, 12)"
      ]
     },
     "execution_count": 5,
     "metadata": {},
     "output_type": "execute_result"
    }
   ],
   "source": [
    "#Shape\n",
    "df.shape"
   ]
  },
  {
   "cell_type": "code",
   "execution_count": 6,
   "metadata": {},
   "outputs": [],
   "source": [
    "df_copy = df.copy(deep=True)"
   ]
  },
  {
   "cell_type": "markdown",
   "metadata": {},
   "source": [
    "## Remove insignificant variable id"
   ]
  },
  {
   "cell_type": "code",
   "execution_count": 7,
   "metadata": {},
   "outputs": [],
   "source": [
    "# Remove insignificant variable id\n",
    "df.drop('id', axis=1, inplace=True)"
   ]
  },
  {
   "cell_type": "code",
   "execution_count": 8,
   "metadata": {},
   "outputs": [
    {
     "data": {
      "text/html": [
       "<div>\n",
       "<style scoped>\n",
       "    .dataframe tbody tr th:only-of-type {\n",
       "        vertical-align: middle;\n",
       "    }\n",
       "\n",
       "    .dataframe tbody tr th {\n",
       "        vertical-align: top;\n",
       "    }\n",
       "\n",
       "    .dataframe thead th {\n",
       "        text-align: right;\n",
       "    }\n",
       "</style>\n",
       "<table border=\"1\" class=\"dataframe\">\n",
       "  <thead>\n",
       "    <tr style=\"text-align: right;\">\n",
       "      <th></th>\n",
       "      <th>Gender</th>\n",
       "      <th>Age</th>\n",
       "      <th>Driving_License</th>\n",
       "      <th>Region_Code</th>\n",
       "      <th>Previously_Insured</th>\n",
       "      <th>Vehicle_Age</th>\n",
       "      <th>Vehicle_Damage</th>\n",
       "      <th>Annual_Premium</th>\n",
       "      <th>Policy_Sales_Channel</th>\n",
       "      <th>Vintage</th>\n",
       "      <th>Response</th>\n",
       "    </tr>\n",
       "  </thead>\n",
       "  <tbody>\n",
       "    <tr>\n",
       "      <th>0</th>\n",
       "      <td>Male</td>\n",
       "      <td>44</td>\n",
       "      <td>1</td>\n",
       "      <td>28.0</td>\n",
       "      <td>0</td>\n",
       "      <td>&gt; 2 Years</td>\n",
       "      <td>Yes</td>\n",
       "      <td>40454.0</td>\n",
       "      <td>26.0</td>\n",
       "      <td>217</td>\n",
       "      <td>1</td>\n",
       "    </tr>\n",
       "  </tbody>\n",
       "</table>\n",
       "</div>"
      ],
      "text/plain": [
       "  Gender  Age Driving_License  Region_Code Previously_Insured Vehicle_Age  \\\n",
       "0   Male   44               1         28.0                  0   > 2 Years   \n",
       "\n",
       "  Vehicle_Damage  Annual_Premium  Policy_Sales_Channel  Vintage Response  \n",
       "0            Yes         40454.0                  26.0      217        1  "
      ]
     },
     "execution_count": 8,
     "metadata": {},
     "output_type": "execute_result"
    }
   ],
   "source": [
    "df.head(1)"
   ]
  },
  {
   "cell_type": "markdown",
   "metadata": {},
   "source": [
    "## Duplicate records "
   ]
  },
  {
   "cell_type": "code",
   "execution_count": 9,
   "metadata": {},
   "outputs": [
    {
     "data": {
      "text/plain": [
       "False    99.929417\n",
       "True      0.070583\n",
       "dtype: float64"
      ]
     },
     "execution_count": 9,
     "metadata": {},
     "output_type": "execute_result"
    }
   ],
   "source": [
    "#Remove duplicates\n",
    "df.duplicated(keep='first').value_counts(normalize=True) * 100\n",
    "\n",
    "#There are totally 0.07% of duplicate records"
   ]
  },
  {
   "cell_type": "code",
   "execution_count": 10,
   "metadata": {},
   "outputs": [
    {
     "data": {
      "text/plain": [
       "False    380840\n",
       "True        269\n",
       "dtype: int64"
      ]
     },
     "execution_count": 10,
     "metadata": {},
     "output_type": "execute_result"
    }
   ],
   "source": [
    "df.duplicated(keep='first').value_counts()"
   ]
  },
  {
   "cell_type": "code",
   "execution_count": 11,
   "metadata": {},
   "outputs": [],
   "source": [
    "#We are keeping the first duplicate record and delete the rest\n",
    "df.drop_duplicates(keep='first', inplace=True)"
   ]
  },
  {
   "cell_type": "code",
   "execution_count": 12,
   "metadata": {},
   "outputs": [
    {
     "data": {
      "text/plain": [
       "(380840, 11)"
      ]
     },
     "execution_count": 12,
     "metadata": {},
     "output_type": "execute_result"
    }
   ],
   "source": [
    "df.shape\n",
    "\n",
    "#Shape after removing duplicates"
   ]
  },
  {
   "cell_type": "code",
   "execution_count": 13,
   "metadata": {},
   "outputs": [
    {
     "data": {
      "text/html": [
       "<div>\n",
       "<style scoped>\n",
       "    .dataframe tbody tr th:only-of-type {\n",
       "        vertical-align: middle;\n",
       "    }\n",
       "\n",
       "    .dataframe tbody tr th {\n",
       "        vertical-align: top;\n",
       "    }\n",
       "\n",
       "    .dataframe thead th {\n",
       "        text-align: right;\n",
       "    }\n",
       "</style>\n",
       "<table border=\"1\" class=\"dataframe\">\n",
       "  <thead>\n",
       "    <tr style=\"text-align: right;\">\n",
       "      <th></th>\n",
       "      <th>Gender</th>\n",
       "      <th>Age</th>\n",
       "      <th>Driving_License</th>\n",
       "      <th>Region_Code</th>\n",
       "      <th>Previously_Insured</th>\n",
       "      <th>Vehicle_Age</th>\n",
       "      <th>Vehicle_Damage</th>\n",
       "      <th>Annual_Premium</th>\n",
       "      <th>Policy_Sales_Channel</th>\n",
       "      <th>Vintage</th>\n",
       "      <th>Response</th>\n",
       "    </tr>\n",
       "  </thead>\n",
       "  <tbody>\n",
       "    <tr>\n",
       "      <th>0</th>\n",
       "      <td>Male</td>\n",
       "      <td>44</td>\n",
       "      <td>1</td>\n",
       "      <td>28.0</td>\n",
       "      <td>0</td>\n",
       "      <td>&gt; 2 Years</td>\n",
       "      <td>Yes</td>\n",
       "      <td>40454.0</td>\n",
       "      <td>26.0</td>\n",
       "      <td>217</td>\n",
       "      <td>1</td>\n",
       "    </tr>\n",
       "  </tbody>\n",
       "</table>\n",
       "</div>"
      ],
      "text/plain": [
       "  Gender  Age Driving_License  Region_Code Previously_Insured Vehicle_Age  \\\n",
       "0   Male   44               1         28.0                  0   > 2 Years   \n",
       "\n",
       "  Vehicle_Damage  Annual_Premium  Policy_Sales_Channel  Vintage Response  \n",
       "0            Yes         40454.0                  26.0      217        1  "
      ]
     },
     "execution_count": 13,
     "metadata": {},
     "output_type": "execute_result"
    }
   ],
   "source": [
    "df.head(1)"
   ]
  },
  {
   "cell_type": "markdown",
   "metadata": {},
   "source": [
    "## Outlier treatment"
   ]
  },
  {
   "cell_type": "code",
   "execution_count": 14,
   "metadata": {},
   "outputs": [
    {
     "data": {
      "text/plain": [
       "(10331, 11)"
      ]
     },
     "execution_count": 14,
     "metadata": {},
     "output_type": "execute_result"
    }
   ],
   "source": [
    "#As seen in eda, only Annual_Premium variable had significant number of outliers\n",
    "\n",
    "q1 = df['Annual_Premium'].quantile(0.25)\n",
    "q3 = df['Annual_Premium'].quantile(0.75)\n",
    "\n",
    "iqr = q3-q1\n",
    "\n",
    "ll = q1 - 1.5*iqr\n",
    "ul = q3 + 1.5*iqr\n",
    "\n",
    "df[(df['Annual_Premium']<ll)|(df['Annual_Premium']>ul)].shape"
   ]
  },
  {
   "cell_type": "code",
   "execution_count": 15,
   "metadata": {},
   "outputs": [
    {
     "data": {
      "text/plain": [
       "2.7107730334366287"
      ]
     },
     "execution_count": 15,
     "metadata": {},
     "output_type": "execute_result"
    }
   ],
   "source": [
    "#There are 10331 outliers\n",
    "\n",
    "10331/len(df_copy) * 100\n",
    "\n",
    "#2.71% outliers"
   ]
  },
  {
   "cell_type": "code",
   "execution_count": 16,
   "metadata": {},
   "outputs": [
    {
     "name": "stdout",
     "output_type": "stream",
     "text": [
      "Skewness of Annual_premium variable before Power transformation : 1.7699758877598497\n",
      "\n",
      "Skewness of Annual_premium variable after Power transformation : 0.08644874083867982\n"
     ]
    }
   ],
   "source": [
    "#We treat the outlier by Power transforming the Annual_Premium feature\n",
    "\n",
    "print('Skewness of Annual_premium variable before Power transformation :', df['Annual_Premium'].skew())\n",
    "\n",
    "df['Annual_Premium'] = pt.fit_transform(df[['Annual_Premium']])\n",
    "\n",
    "print('\\nSkewness of Annual_premium variable after Power transformation :', df['Annual_Premium'].skew())"
   ]
  },
  {
   "cell_type": "code",
   "execution_count": 17,
   "metadata": {},
   "outputs": [],
   "source": [
    "#Skewness is reduced after applying Power transformation"
   ]
  },
  {
   "cell_type": "code",
   "execution_count": 18,
   "metadata": {},
   "outputs": [
    {
     "data": {
      "image/png": "[encoded data removed]",
      "text/plain": [
       "<Figure size 864x576 with 2 Axes>"
      ]
     },
     "metadata": {
      "needs_background": "light"
     },
     "output_type": "display_data"
    }
   ],
   "source": [
    "#distribution plot\n",
    "plt.figure(figsize=(12,8))\n",
    "\n",
    "plt.subplots_adjust(hspace=0.3)\n",
    "\n",
    "plt.subplot(2,1,1)\n",
    "sns.distplot(df_copy['Annual_Premium'])\n",
    "plt.title('Distribution before transformation')\n",
    "\n",
    "plt.subplot(2,1,2)\n",
    "sns.distplot(df['Annual_Premium'])\n",
    "plt.title('Distribution after transformation')\n",
    "\n",
    "plt.show()"
   ]
  },
  {
   "cell_type": "markdown",
   "metadata": {},
   "source": [
    "# Statistical Analysis for feature important"
   ]
  },
  {
   "cell_type": "code",
   "execution_count": 19,
   "metadata": {},
   "outputs": [
    {
     "name": "stdout",
     "output_type": "stream",
     "text": [
      "<class 'pandas.core.frame.DataFrame'>\n",
      "Int64Index: 380840 entries, 0 to 381108\n",
      "Data columns (total 11 columns):\n",
      " #   Column                Non-Null Count   Dtype  \n",
      "---  ------                --------------   -----  \n",
      " 0   Gender                380840 non-null  object \n",
      " 1   Age                   380840 non-null  int64  \n",
      " 2   Driving_License       380840 non-null  object \n",
      " 3   Region_Code           380840 non-null  float64\n",
      " 4   Previously_Insured    380840 non-null  object \n",
      " 5   Vehicle_Age           380840 non-null  object \n",
      " 6   Vehicle_Damage        380840 non-null  object \n",
      " 7   Annual_Premium        380840 non-null  float64\n",
      " 8   Policy_Sales_Channel  380840 non-null  float64\n",
      " 9   Vintage               380840 non-null  int64  \n",
      " 10  Response              380840 non-null  object \n",
      "dtypes: float64(3), int64(2), object(6)\n",
      "memory usage: 34.9+ MB\n"
     ]
    }
   ],
   "source": [
    "df.info()"
   ]
  },
  {
   "cell_type": "code",
   "execution_count": 20,
   "metadata": {},
   "outputs": [],
   "source": [
    "#Dividing the dataset to customers whose Response = 1 as res_1 and customers whose Response = 0 as res_0\n",
    "\n",
    "#Customer who have not responded\n",
    "res_0 = df[df['Response']==0]\n",
    "\n",
    "#Customer who have responded\n",
    "res_1 = df[df['Response']==1]"
   ]
  },
  {
   "cell_type": "markdown",
   "metadata": {},
   "source": [
    "## Statistical analysis for Numerical columns"
   ]
  },
  {
   "cell_type": "code",
   "execution_count": 21,
   "metadata": {},
   "outputs": [
    {
     "data": {
      "text/plain": [
       "['Age', 'Region_Code', 'Annual_Premium', 'Policy_Sales_Channel', 'Vintage']"
      ]
     },
     "execution_count": 21,
     "metadata": {},
     "output_type": "execute_result"
    }
   ],
   "source": [
    "#Features whose datatype is 'numeric'\n",
    "num_cols = list(df.select_dtypes(include='number'))\n",
    "\n",
    "num_cols"
   ]
  },
  {
   "cell_type": "markdown",
   "metadata": {},
   "source": [
    "#### Test of Normality for numerical data (Shapiro test)"
   ]
  },
  {
   "cell_type": "code",
   "execution_count": 22,
   "metadata": {},
   "outputs": [
    {
     "name": "stdout",
     "output_type": "stream",
     "text": [
      "\n",
      "Shapiro test for Age feature :\n",
      "Response = 0 : ShapiroResult(statistic=0.8927069902420044, pvalue=0.0)\n",
      "Response = 1 : ShapiroResult(statistic=0.98533034324646, pvalue=0.0)\n",
      "\n",
      "Shapiro test for Region_Code feature :\n",
      "Response = 0 : ShapiroResult(statistic=0.942943811416626, pvalue=0.0)\n",
      "Response = 1 : ShapiroResult(statistic=0.910094678401947, pvalue=0.0)\n",
      "\n",
      "Shapiro test for Annual_Premium feature :\n",
      "Response = 0 : ShapiroResult(statistic=0.8867270946502686, pvalue=0.0)\n",
      "Response = 1 : ShapiroResult(statistic=0.8773977756500244, pvalue=0.0)\n",
      "\n",
      "Shapiro test for Policy_Sales_Channel feature :\n",
      "Response = 0 : ShapiroResult(statistic=0.7037640810012817, pvalue=0.0)\n",
      "Response = 1 : ShapiroResult(statistic=0.7760171294212341, pvalue=0.0)\n",
      "\n",
      "Shapiro test for Vintage feature :\n",
      "Response = 0 : ShapiroResult(statistic=0.9550694823265076, pvalue=0.0)\n",
      "Response = 1 : ShapiroResult(statistic=0.9550324082374573, pvalue=0.0)\n"
     ]
    }
   ],
   "source": [
    "# Test of normality\n",
    "# Ho: skew=0 (normal)\n",
    "# Ha : skew !=0(not normal)\n",
    "\n",
    "#Shapiro test\n",
    "\n",
    "for col in num_cols:\n",
    "    print(f'\\nShapiro test for {col} feature :')\n",
    "    print('Response = 0 :',stats.shapiro(res_0[col]))\n",
    "    print('Response = 1 :',stats.shapiro(res_1[col]))"
   ]
  },
  {
   "cell_type": "markdown",
   "metadata": {},
   "source": [
    "For all the numerical features<br>\n",
    ">pval = 0<br>\n",
    "sig lvl = 0.05<br>\n",
    "pval < sig lvl<br>\n",
    "We reject Null hypothesis<br>\n",
    "None of the Data is not normally distributed"
   ]
  },
  {
   "cell_type": "markdown",
   "metadata": {},
   "source": [
    "#### Test for equality of variances (levene test)"
   ]
  },
  {
   "cell_type": "code",
   "execution_count": 23,
   "metadata": {},
   "outputs": [
    {
     "name": "stdout",
     "output_type": "stream",
     "text": [
      "\n",
      "Levene test for Age feature :\n",
      "LeveneResult(statistic=6633.538628422177, pvalue=0.0)\n",
      "\n",
      "Levene test for Region_Code feature :\n",
      "LeveneResult(statistic=3053.0698944063884, pvalue=0.0)\n",
      "\n",
      "Levene test for Annual_Premium feature :\n",
      "LeveneResult(statistic=270.88947562916127, pvalue=7.62285405978932e-61)\n",
      "\n",
      "Levene test for Policy_Sales_Channel feature :\n",
      "LeveneResult(statistic=1240.365812496968, pvalue=2.8260034273411953e-271)\n",
      "\n",
      "Levene test for Vintage feature :\n",
      "LeveneResult(statistic=0.016631156245483985, pvalue=0.8973879117425655)\n"
     ]
    }
   ],
   "source": [
    "#equality of variances\n",
    "# Ho: Variance is equal\n",
    "# Ha : Variance is not equal\n",
    "\n",
    "for col in num_cols:\n",
    "    print(f'\\nLevene test for {col} feature :')\n",
    "    print(stats.levene(res_0[col], res_1[col]))"
   ]
  },
  {
   "cell_type": "markdown",
   "metadata": {},
   "source": [
    "For features ==> 'Age', 'Region_Code', 'Annual_Premium', 'Policy_Sales_Channel'\n",
    ">   pval = 0<br>\n",
    "    sig lvl = 0.05<br>\n",
    "    pval < sig lvl<br>\n",
    "    We reject Null hypothesis\n",
    " Population variances are not equal<br>"
   ]
  },
  {
   "cell_type": "markdown",
   "metadata": {},
   "source": [
    "For 'Vintage' Feature :\n",
    ">pval = 0.89<br>\n",
    "sig lvl = 0.05<br>\n",
    "pval > sig lvl<br>\n",
    "We fail to reject Null hypothesis <br>\n",
    "Population variances are equal"
   ]
  },
  {
   "cell_type": "markdown",
   "metadata": {},
   "source": [
    "#### Mannwhitneyu (non-parametric ttest)"
   ]
  },
  {
   "cell_type": "code",
   "execution_count": 24,
   "metadata": {},
   "outputs": [
    {
     "name": "stdout",
     "output_type": "stream",
     "text": [
      "\n",
      "Non-parametric 2-sample Unpaired test for Age feature and Response feature :\n",
      "MannwhitneyuResult(statistic=5819466844.5, pvalue=0.0)\n",
      "\n",
      "Non-parametric 2-sample Unpaired test for Region_Code feature and Response feature :\n",
      "MannwhitneyuResult(statistic=7783182369.0, pvalue=0.22206521509389776)\n",
      "\n",
      "Non-parametric 2-sample Unpaired test for Annual_Premium feature and Response feature :\n",
      "MannwhitneyuResult(statistic=7335224512.5, pvalue=1.159971779844667e-97)\n",
      "\n",
      "Non-parametric 2-sample Unpaired test for Policy_Sales_Channel feature and Response feature :\n",
      "MannwhitneyuResult(statistic=5974542861.5, pvalue=0.0)\n",
      "\n",
      "Non-parametric 2-sample Unpaired test for Vintage feature and Response feature :\n",
      "MannwhitneyuResult(statistic=7785774085.0, pvalue=0.2611062858219003)\n"
     ]
    }
   ],
   "source": [
    "#As all the features are not normal, we cannot perform parametric test\n",
    "#We will perform non-parametric test (Mannwhitneyu)\n",
    "\n",
    "# Ho : mu1 = mu2(no relation)\n",
    "# Ha : mu1 != mu (relation)\n",
    "\n",
    "for col in num_cols:\n",
    "    print(f'\\nNon-parametric 2-sample Unpaired test for {col} feature and Response feature :')\n",
    "    print(stats.mannwhitneyu(res_0[col], res_1[col]))"
   ]
  },
  {
   "cell_type": "markdown",
   "metadata": {},
   "source": [
    "For features :  'Age', 'Annual_Premium', 'Policy_Sales_Channel'<br>\n",
    ">pval = 0<br>\n",
    "sig lvl = 0.05<br>\n",
    "pval < sig lvl<br>\n",
    "We reject Null hypothesis\n",
    "###### There is a relation between ('Age', 'Annual_Premium', 'Policy_Sales_Channel) and 'Response'"
   ]
  },
  {
   "cell_type": "markdown",
   "metadata": {},
   "source": [
    "For features : 'Region_Code', 'Vintage'\n",
    ">pval = 0.22, 0.26 (Region_Code and Vintage respectively)<br>\n",
    "sig lvl = 0.05<br>\n",
    "pval > sig lvl<br>\n",
    "We fail to reject Null hypothesis<br>\n",
    "######  'There is a no relation between (Region_code, Vintage) and Response'"
   ]
  },
  {
   "cell_type": "markdown",
   "metadata": {},
   "source": [
    "## Statistical analysis for Categorical columns"
   ]
  },
  {
   "cell_type": "code",
   "execution_count": 25,
   "metadata": {},
   "outputs": [],
   "source": [
    "#Chi-Square Test for Independence : It is a non-parametric test (hence no assumptions)\n",
    "#H0 : The variables are independent\n",
    "#H1 : The variables are not independent (i.e. variables are dependent)"
   ]
  },
  {
   "cell_type": "code",
   "execution_count": 26,
   "metadata": {},
   "outputs": [
    {
     "data": {
      "text/plain": [
       "['Gender',\n",
       " 'Driving_License',\n",
       " 'Previously_Insured',\n",
       " 'Vehicle_Age',\n",
       " 'Vehicle_Damage']"
      ]
     },
     "execution_count": 26,
     "metadata": {},
     "output_type": "execute_result"
    }
   ],
   "source": [
    "#List of categorical features\n",
    "cat_cols = list(df.select_dtypes(exclude='number'))\n",
    "\n",
    "#Remove the target feature from the list\n",
    "cat_cols.remove('Response')\n",
    "\n",
    "cat_cols"
   ]
  },
  {
   "cell_type": "code",
   "execution_count": 27,
   "metadata": {},
   "outputs": [
    {
     "name": "stdout",
     "output_type": "stream",
     "text": [
      "Gender vs Response :\n",
      "Observed values :\n",
      " Gender    Female    Male\n",
      "Response                \n",
      "0         156728  177427\n",
      "1          18174   28511\n",
      "(1048.4156547001373, 5.3788975019355325e-230, 1, array([[153461.76297133, 180693.23702867],\n",
      "       [ 21440.23702867,  25244.76297133]]))\n",
      "Pvalue = 5.3788975019355325e-230\n",
      "\n",
      "\n",
      "\n",
      "Driving_License vs Response :\n",
      "Observed values :\n",
      " Driving_License    0       1\n",
      "Response                    \n",
      "0                771  333384\n",
      "1                 41   46644\n",
      "(38.651130265524095, 5.067390495010783e-10, 1, array([[7.12461559e+02, 3.33442538e+05],\n",
      "       [9.95384413e+01, 4.65854616e+04]]))\n",
      "Pvalue = 5.067390495010783e-10\n",
      "\n",
      "\n",
      "\n",
      "Previously_Insured vs Response :\n",
      "Observed values :\n",
      " Previously_Insured       0       1\n",
      "Response                          \n",
      "0                   159809  174346\n",
      "1                    46527     158\n",
      "(44334.57616237847, 0.0, 1, array([[181042.4484823, 153112.5515177],\n",
      "       [ 25293.5515177,  21391.4484823]]))\n",
      "Pvalue = 0.0\n",
      "\n",
      "\n",
      "\n",
      "Vehicle_Age vs Response :\n",
      "Observed values :\n",
      " Vehicle_Age  1-2 Year  < 1 Year  > 2 Years\n",
      "Response                                  \n",
      "0              165384    157469      11302\n",
      "1               34783      7202       4700\n",
      "(18751.181407959386, 0.0, 2, array([[175629.67095106, 144484.92281536,  14040.40623359],\n",
      "       [ 24537.32904894,  20186.07718464,   1961.59376641]]))\n",
      "Pvalue = 0.0\n",
      "\n",
      "\n",
      "\n",
      "Vehicle_Damage vs Response :\n",
      "Observed values :\n",
      " Vehicle_Damage      No     Yes\n",
      "Response                      \n",
      "0               187581  146574\n",
      "1                  982   45703\n",
      "(47838.11028906051, 0.0, 1, array([[165448.13902164, 168706.86097836],\n",
      "       [ 23114.86097836,  23570.13902164]]))\n",
      "Pvalue = 0.0\n",
      "\n",
      "\n",
      "\n"
     ]
    }
   ],
   "source": [
    "#perform chi2_contingency for all the categorical features and Response target\n",
    "for col in cat_cols:\n",
    "    print(f'{col} vs Response :')\n",
    "    obs = pd.crosstab(index=df['Response'], columns=df[col]) #create a cross-tab for feature and target\n",
    "    print('Observed values :\\n',obs )\n",
    "    print(stats.chi2_contingency(obs))\n",
    "    print('Pvalue =',stats.chi2_contingency(obs)[1] )\n",
    "    print('\\n\\n')"
   ]
  },
  {
   "cell_type": "markdown",
   "metadata": {},
   "source": [
    "For features : 'Gender', 'Driving_License', 'Previously_Insured', 'Vehicle_Age', 'Vehicle_Damage'\n",
    ">pval = 0<br>\n",
    "sig lvl = 0.05<br>\n",
    "pval < sig lvl<br>\n",
    "We reject Null hypothesis<br>\n",
    "\n",
    "There is relationship between these ('Gender',  'Driving_License',  'Previously_Insured', 'Vehicle_Age',  'Vehicle_Damage') and 'RESPONSE' variable<br>\n",
    "##### Response (target variable) is dependent on all the categorical variable."
   ]
  },
  {
   "cell_type": "code",
   "execution_count": 28,
   "metadata": {},
   "outputs": [],
   "source": [
    "#Except Region_Code and Vintage, Response is dependent on all other variables"
   ]
  },
  {
   "cell_type": "markdown",
   "metadata": {},
   "source": [
    "## Label encoding / One hot encoding"
   ]
  },
  {
   "cell_type": "code",
   "execution_count": 29,
   "metadata": {},
   "outputs": [
    {
     "data": {
      "text/html": [
       "<div>\n",
       "<style scoped>\n",
       "    .dataframe tbody tr th:only-of-type {\n",
       "        vertical-align: middle;\n",
       "    }\n",
       "\n",
       "    .dataframe tbody tr th {\n",
       "        vertical-align: top;\n",
       "    }\n",
       "\n",
       "    .dataframe thead th {\n",
       "        text-align: right;\n",
       "    }\n",
       "</style>\n",
       "<table border=\"1\" class=\"dataframe\">\n",
       "  <thead>\n",
       "    <tr style=\"text-align: right;\">\n",
       "      <th></th>\n",
       "      <th>Gender</th>\n",
       "      <th>Age</th>\n",
       "      <th>Driving_License</th>\n",
       "      <th>Region_Code</th>\n",
       "      <th>Previously_Insured</th>\n",
       "      <th>Vehicle_Age</th>\n",
       "      <th>Vehicle_Damage</th>\n",
       "      <th>Annual_Premium</th>\n",
       "      <th>Policy_Sales_Channel</th>\n",
       "      <th>Vintage</th>\n",
       "      <th>Response</th>\n",
       "    </tr>\n",
       "  </thead>\n",
       "  <tbody>\n",
       "    <tr>\n",
       "      <th>0</th>\n",
       "      <td>Male</td>\n",
       "      <td>44</td>\n",
       "      <td>1</td>\n",
       "      <td>28.0</td>\n",
       "      <td>0</td>\n",
       "      <td>&gt; 2 Years</td>\n",
       "      <td>Yes</td>\n",
       "      <td>0.611367</td>\n",
       "      <td>26.0</td>\n",
       "      <td>217</td>\n",
       "      <td>1</td>\n",
       "    </tr>\n",
       "  </tbody>\n",
       "</table>\n",
       "</div>"
      ],
      "text/plain": [
       "  Gender  Age Driving_License  Region_Code Previously_Insured Vehicle_Age  \\\n",
       "0   Male   44               1         28.0                  0   > 2 Years   \n",
       "\n",
       "  Vehicle_Damage  Annual_Premium  Policy_Sales_Channel  Vintage Response  \n",
       "0            Yes        0.611367                  26.0      217        1  "
      ]
     },
     "execution_count": 29,
     "metadata": {},
     "output_type": "execute_result"
    }
   ],
   "source": [
    "df.head(1)"
   ]
  },
  {
   "cell_type": "code",
   "execution_count": 30,
   "metadata": {},
   "outputs": [],
   "source": [
    "#Driving_License, Previously_Insured, Response are already encoded but Data-type is object\n",
    "#Change the datatype to int"
   ]
  },
  {
   "cell_type": "code",
   "execution_count": 31,
   "metadata": {},
   "outputs": [],
   "source": [
    "df[['Driving_License', 'Previously_Insured', 'Response']] = df[['Driving_License', 'Previously_Insured', 'Response']].astype('int')"
   ]
  },
  {
   "cell_type": "code",
   "execution_count": 32,
   "metadata": {},
   "outputs": [
    {
     "name": "stdout",
     "output_type": "stream",
     "text": [
      "<class 'pandas.core.frame.DataFrame'>\n",
      "Int64Index: 380840 entries, 0 to 381108\n",
      "Data columns (total 11 columns):\n",
      " #   Column                Non-Null Count   Dtype  \n",
      "---  ------                --------------   -----  \n",
      " 0   Gender                380840 non-null  object \n",
      " 1   Age                   380840 non-null  int64  \n",
      " 2   Driving_License       380840 non-null  int32  \n",
      " 3   Region_Code           380840 non-null  float64\n",
      " 4   Previously_Insured    380840 non-null  int32  \n",
      " 5   Vehicle_Age           380840 non-null  object \n",
      " 6   Vehicle_Damage        380840 non-null  object \n",
      " 7   Annual_Premium        380840 non-null  float64\n",
      " 8   Policy_Sales_Channel  380840 non-null  float64\n",
      " 9   Vintage               380840 non-null  int64  \n",
      " 10  Response              380840 non-null  int32  \n",
      "dtypes: float64(3), int32(3), int64(2), object(3)\n",
      "memory usage: 30.5+ MB\n"
     ]
    }
   ],
   "source": [
    "df.info()"
   ]
  },
  {
   "cell_type": "code",
   "execution_count": 33,
   "metadata": {},
   "outputs": [
    {
     "data": {
      "text/html": [
       "<div>\n",
       "<style scoped>\n",
       "    .dataframe tbody tr th:only-of-type {\n",
       "        vertical-align: middle;\n",
       "    }\n",
       "\n",
       "    .dataframe tbody tr th {\n",
       "        vertical-align: top;\n",
       "    }\n",
       "\n",
       "    .dataframe thead th {\n",
       "        text-align: right;\n",
       "    }\n",
       "</style>\n",
       "<table border=\"1\" class=\"dataframe\">\n",
       "  <thead>\n",
       "    <tr style=\"text-align: right;\">\n",
       "      <th></th>\n",
       "      <th>Age</th>\n",
       "      <th>Driving_License</th>\n",
       "      <th>Region_Code</th>\n",
       "      <th>Previously_Insured</th>\n",
       "      <th>Annual_Premium</th>\n",
       "      <th>Policy_Sales_Channel</th>\n",
       "      <th>Vintage</th>\n",
       "      <th>Response</th>\n",
       "      <th>Gender_Male</th>\n",
       "      <th>Vehicle_Age_&lt; 1 Year</th>\n",
       "      <th>Vehicle_Age_&gt; 2 Years</th>\n",
       "      <th>Vehicle_Damage_Yes</th>\n",
       "    </tr>\n",
       "  </thead>\n",
       "  <tbody>\n",
       "    <tr>\n",
       "      <th>0</th>\n",
       "      <td>44</td>\n",
       "      <td>1</td>\n",
       "      <td>28.0</td>\n",
       "      <td>0</td>\n",
       "      <td>0.611367</td>\n",
       "      <td>26.0</td>\n",
       "      <td>217</td>\n",
       "      <td>1</td>\n",
       "      <td>1</td>\n",
       "      <td>0</td>\n",
       "      <td>1</td>\n",
       "      <td>1</td>\n",
       "    </tr>\n",
       "  </tbody>\n",
       "</table>\n",
       "</div>"
      ],
      "text/plain": [
       "   Age  Driving_License  Region_Code  Previously_Insured  Annual_Premium  \\\n",
       "0   44                1         28.0                   0        0.611367   \n",
       "\n",
       "   Policy_Sales_Channel  Vintage  Response  Gender_Male  Vehicle_Age_< 1 Year  \\\n",
       "0                  26.0      217         1            1                     0   \n",
       "\n",
       "   Vehicle_Age_> 2 Years  Vehicle_Damage_Yes  \n",
       "0                      1                   1  "
      ]
     },
     "execution_count": 33,
     "metadata": {},
     "output_type": "execute_result"
    }
   ],
   "source": [
    "#One hot encoding the rest of categorical variables, by droping the first column after encoding\n",
    "\n",
    "cat_cols = list(df.select_dtypes(exclude='number'))\n",
    "\n",
    "df = pd.get_dummies(df, columns=cat_cols, drop_first=True)\n",
    "df.head(1)"
   ]
  },
  {
   "cell_type": "code",
   "execution_count": 34,
   "metadata": {},
   "outputs": [
    {
     "name": "stdout",
     "output_type": "stream",
     "text": [
      "<class 'pandas.core.frame.DataFrame'>\n",
      "Int64Index: 380840 entries, 0 to 381108\n",
      "Data columns (total 12 columns):\n",
      " #   Column                 Non-Null Count   Dtype  \n",
      "---  ------                 --------------   -----  \n",
      " 0   Age                    380840 non-null  int64  \n",
      " 1   Driving_License        380840 non-null  int32  \n",
      " 2   Region_Code            380840 non-null  float64\n",
      " 3   Previously_Insured     380840 non-null  int32  \n",
      " 4   Annual_Premium         380840 non-null  float64\n",
      " 5   Policy_Sales_Channel   380840 non-null  float64\n",
      " 6   Vintage                380840 non-null  int64  \n",
      " 7   Response               380840 non-null  int32  \n",
      " 8   Gender_Male            380840 non-null  uint8  \n",
      " 9   Vehicle_Age_< 1 Year   380840 non-null  uint8  \n",
      " 10  Vehicle_Age_> 2 Years  380840 non-null  uint8  \n",
      " 11  Vehicle_Damage_Yes     380840 non-null  uint8  \n",
      "dtypes: float64(3), int32(3), int64(2), uint8(4)\n",
      "memory usage: 23.2 MB\n"
     ]
    }
   ],
   "source": [
    "df.info()"
   ]
  },
  {
   "cell_type": "code",
   "execution_count": 35,
   "metadata": {},
   "outputs": [
    {
     "data": {
      "text/plain": [
       "(380840, 12)"
      ]
     },
     "execution_count": 35,
     "metadata": {},
     "output_type": "execute_result"
    }
   ],
   "source": [
    "df.shape"
   ]
  },
  {
   "cell_type": "markdown",
   "metadata": {},
   "source": [
    "## Train-Test split"
   ]
  },
  {
   "cell_type": "code",
   "execution_count": 36,
   "metadata": {},
   "outputs": [],
   "source": [
    "# X y split\n",
    "y = df['Response']\n",
    "X = df.drop('Response', axis=1)"
   ]
  },
  {
   "cell_type": "code",
   "execution_count": 37,
   "metadata": {},
   "outputs": [
    {
     "name": "stdout",
     "output_type": "stream",
     "text": [
      "X train Shape : (266588, 11)\n",
      "X test Shape : (114252, 11)\n"
     ]
    }
   ],
   "source": [
    "#Train & test split with 0.3%\n",
    "X_train, X_test, y_train, y_test = train_test_split(X, y, test_size=0.30, random_state=4)\n",
    "\n",
    "print('X train Shape :',X_train.shape)\n",
    "print('X test Shape :',X_test.shape)\n"
   ]
  },
  {
   "cell_type": "markdown",
   "metadata": {},
   "source": [
    "### Model evaluation metrics"
   ]
  },
  {
   "cell_type": "code",
   "execution_count": 38,
   "metadata": {},
   "outputs": [],
   "source": [
    "from sklearn.metrics import accuracy_score, confusion_matrix, f1_score, roc_auc_score, precision_score, recall_score"
   ]
  },
  {
   "cell_type": "code",
   "execution_count": 39,
   "metadata": {},
   "outputs": [
    {
     "data": {
      "text/html": [
       "<div>\n",
       "<style scoped>\n",
       "    .dataframe tbody tr th:only-of-type {\n",
       "        vertical-align: middle;\n",
       "    }\n",
       "\n",
       "    .dataframe tbody tr th {\n",
       "        vertical-align: top;\n",
       "    }\n",
       "\n",
       "    .dataframe thead th {\n",
       "        text-align: right;\n",
       "    }\n",
       "</style>\n",
       "<table border=\"1\" class=\"dataframe\">\n",
       "  <thead>\n",
       "    <tr style=\"text-align: right;\">\n",
       "      <th></th>\n",
       "      <th>Model_Name</th>\n",
       "      <th>Accuracy_score_train</th>\n",
       "      <th>roc_auc_score_train</th>\n",
       "      <th>f1_score_train</th>\n",
       "      <th>precision_score_train</th>\n",
       "      <th>recall_score_train</th>\n",
       "      <th>Accuracy_score_test</th>\n",
       "      <th>roc_auc_score_test</th>\n",
       "      <th>f1_score_test</th>\n",
       "      <th>precision_score_test</th>\n",
       "      <th>recall_score_test</th>\n",
       "    </tr>\n",
       "  </thead>\n",
       "  <tbody>\n",
       "  </tbody>\n",
       "</table>\n",
       "</div>"
      ],
      "text/plain": [
       "Empty DataFrame\n",
       "Columns: [Model_Name, Accuracy_score_train, roc_auc_score_train, f1_score_train, precision_score_train, recall_score_train, Accuracy_score_test, roc_auc_score_test, f1_score_test, precision_score_test, recall_score_test]\n",
       "Index: []"
      ]
     },
     "execution_count": 39,
     "metadata": {},
     "output_type": "execute_result"
    }
   ],
   "source": [
    "result_df = pd.DataFrame(columns=['Model_Name', 'Accuracy_score_train', 'roc_auc_score_train','f1_score_train','precision_score_train', \n",
    "                                  'recall_score_train','Accuracy_score_test', 'roc_auc_score_test','f1_score_test', 'precision_score_test', 'recall_score_test'  ])\n",
    "\n",
    "result_df"
   ]
  },
  {
   "cell_type": "code",
   "execution_count": 40,
   "metadata": {},
   "outputs": [],
   "source": [
    "#Defining a function to append metrics in dataframe\n",
    "\n",
    "def model_score_card(algo,  name, X_train=X_train, X_test=X_test, y_train=y_train, y_test=y_test):\n",
    "    algo.fit(X_train, y_train)\n",
    "    \n",
    "    #train datset\n",
    "    y_train_pred = algo.predict(X_train)\n",
    "    y_train_proba = algo.predict_proba(X_train)[::, 1]\n",
    "    \n",
    "    #test datset\n",
    "    y_test_pred = algo.predict(X_test)\n",
    "    y_test_proba = algo.predict_proba(X_test)[::, 1]\n",
    "    \n",
    "    global result_df\n",
    "    \n",
    "    result_df = result_df.append({'Model_Name' : name,\n",
    "                                    \n",
    "                                    'Accuracy_score_train' :accuracy_score(y_train, y_train_pred) ,\n",
    "                                    'roc_auc_score_train' : roc_auc_score(y_train, y_train_proba),\n",
    "                                    'f1_score_train' : f1_score(y_train, y_train_pred), \n",
    "                                    'precision_score_train' : precision_score(y_train, y_train_pred), \n",
    "                                    'recall_score_train' : recall_score(y_train, y_train_pred),\n",
    "                                    \n",
    "                                    'Accuracy_score_test':accuracy_score(y_test, y_test_pred),\n",
    "                                      'f1_score_test' :f1_score(y_test, y_test_pred) ,\n",
    "                                    'roc_auc_score_test' : roc_auc_score(y_test, y_test_proba),\n",
    "                                     \n",
    "                                    'precision_score_test' : precision_score(y_test, y_test_pred), \n",
    "                                    'recall_score_test' : recall_score(y_test, y_test_pred)}, ignore_index = True)\n",
    "    \n",
    "    return result_df"
   ]
  },
  {
   "cell_type": "code",
   "execution_count": 41,
   "metadata": {},
   "outputs": [],
   "source": [
    "#Defining a function to get evaluation metrics\n",
    "\n",
    "def model_eval(algo,  X_train=X_train, X_test=X_test, y_train=y_train, y_test=y_test):\n",
    "    algo.fit(X_train, y_train)\n",
    "    \n",
    "    #train datset\n",
    "    y_train_pred = algo.predict(X_train)\n",
    "    y_train_proba = algo.predict_proba(X_train)[::, 1]\n",
    "\n",
    "    print('Train dataset :')\n",
    "    print('Confusion matrix :\\n', confusion_matrix(y_train, y_train_pred))\n",
    "    print('Accuracy :',accuracy_score(y_train, y_train_pred) )\n",
    "    print('AUC score :', roc_auc_score(y_train, y_train_proba))\n",
    "    print('F1-score :', f1_score(y_train, y_train_pred))\n",
    "    print('Precision score :', precision_score(y_train, y_train_pred))\n",
    "    print('Recall score :', recall_score(y_train, y_train_pred))\n",
    "    \n",
    "    #test datset\n",
    "    y_test_pred = algo.predict(X_test)\n",
    "    y_test_proba = algo.predict_proba(X_test)[::, 1]\n",
    "    print('\\n\\nTest dataset :')\n",
    "    print('Confusion matrix :\\n', confusion_matrix(y_test, y_test_pred))\n",
    "    print('Accuracy :',accuracy_score(y_test, y_test_pred) )\n",
    "    print('AUC score :', roc_auc_score(y_test, y_test_proba))\n",
    "    print('F1-score :', f1_score(y_test, y_test_pred))\n",
    "    print('Precision score :', precision_score(y_test, y_test_pred))\n",
    "    print('Recall score :', recall_score(y_test, y_test_pred))"
   ]
  },
  {
   "cell_type": "markdown",
   "metadata": {},
   "source": [
    "# Model building"
   ]
  },
  {
   "cell_type": "markdown",
   "metadata": {},
   "source": [
    "## 1.Logistic Regression as a base model"
   ]
  },
  {
   "cell_type": "code",
   "execution_count": 42,
   "metadata": {},
   "outputs": [],
   "source": [
    "from sklearn.linear_model import LogisticRegression"
   ]
  },
  {
   "cell_type": "code",
   "execution_count": 43,
   "metadata": {},
   "outputs": [
    {
     "name": "stdout",
     "output_type": "stream",
     "text": [
      "Train dataset :\n",
      "Confusion matrix :\n",
      " [[233965      4]\n",
      " [ 32618      1]]\n",
      "Accuracy : 0.8776314012633727\n",
      "AUC score : 0.8367805793300733\n",
      "F1-score : 6.13045610593428e-05\n",
      "Precision score : 0.2\n",
      "Recall score : 3.06569790612833e-05\n",
      "\n",
      "\n",
      "Test dataset :\n",
      "Confusion matrix :\n",
      " [[100184      2]\n",
      " [ 14066      0]]\n",
      "Accuracy : 0.8768686762594966\n",
      "AUC score : 0.8366018357710197\n",
      "F1-score : 0.0\n",
      "Precision score : 0.0\n",
      "Recall score : 0.0\n"
     ]
    }
   ],
   "source": [
    "lor = LogisticRegression(solver='liblinear',random_state=4)\n",
    "\n",
    "model_eval(lor)"
   ]
  },
  {
   "cell_type": "code",
   "execution_count": 44,
   "metadata": {},
   "outputs": [
    {
     "data": {
      "text/html": [
       "<div>\n",
       "<style scoped>\n",
       "    .dataframe tbody tr th:only-of-type {\n",
       "        vertical-align: middle;\n",
       "    }\n",
       "\n",
       "    .dataframe tbody tr th {\n",
       "        vertical-align: top;\n",
       "    }\n",
       "\n",
       "    .dataframe thead th {\n",
       "        text-align: right;\n",
       "    }\n",
       "</style>\n",
       "<table border=\"1\" class=\"dataframe\">\n",
       "  <thead>\n",
       "    <tr style=\"text-align: right;\">\n",
       "      <th></th>\n",
       "      <th>Model_Name</th>\n",
       "      <th>Accuracy_score_train</th>\n",
       "      <th>roc_auc_score_train</th>\n",
       "      <th>f1_score_train</th>\n",
       "      <th>precision_score_train</th>\n",
       "      <th>recall_score_train</th>\n",
       "      <th>Accuracy_score_test</th>\n",
       "      <th>roc_auc_score_test</th>\n",
       "      <th>f1_score_test</th>\n",
       "      <th>precision_score_test</th>\n",
       "      <th>recall_score_test</th>\n",
       "    </tr>\n",
       "  </thead>\n",
       "  <tbody>\n",
       "    <tr>\n",
       "      <th>0</th>\n",
       "      <td>Logistic Regression</td>\n",
       "      <td>0.877631</td>\n",
       "      <td>0.836781</td>\n",
       "      <td>0.000061</td>\n",
       "      <td>0.2</td>\n",
       "      <td>0.000031</td>\n",
       "      <td>0.876869</td>\n",
       "      <td>0.836602</td>\n",
       "      <td>0.0</td>\n",
       "      <td>0.0</td>\n",
       "      <td>0.0</td>\n",
       "    </tr>\n",
       "  </tbody>\n",
       "</table>\n",
       "</div>"
      ],
      "text/plain": [
       "            Model_Name  Accuracy_score_train  roc_auc_score_train  \\\n",
       "0  Logistic Regression              0.877631             0.836781   \n",
       "\n",
       "   f1_score_train  precision_score_train  recall_score_train  \\\n",
       "0        0.000061                    0.2            0.000031   \n",
       "\n",
       "   Accuracy_score_test  roc_auc_score_test  f1_score_test  \\\n",
       "0             0.876869            0.836602            0.0   \n",
       "\n",
       "   precision_score_test  recall_score_test  \n",
       "0                   0.0                0.0  "
      ]
     },
     "execution_count": 44,
     "metadata": {},
     "output_type": "execute_result"
    }
   ],
   "source": [
    "## Appending the evaluation metrics in a DataFrame for further reference\n",
    "\n",
    "lor = LogisticRegression(solver='liblinear',random_state=4)\n",
    "\n",
    "model_score_card(lor, 'Logistic Regression')"
   ]
  },
  {
   "cell_type": "code",
   "execution_count": 45,
   "metadata": {},
   "outputs": [
    {
     "ename": "NameError",
     "evalue": "name 'roc_curve' is not defined",
     "output_type": "error",
     "traceback": [
      "\u001b[1;31m---------------------------------------------------------------------------\u001b[0m",
      "\u001b[1;31mNameError\u001b[0m                                 Traceback (most recent call last)",
      "\u001b[1;32m<ipython-input-45-66755c235458>\u001b[0m in \u001b[0;36m<module>\u001b[1;34m\u001b[0m\n\u001b[0;32m     10\u001b[0m \u001b[0my_test_proba\u001b[0m \u001b[1;33m=\u001b[0m \u001b[0mlor\u001b[0m\u001b[1;33m.\u001b[0m\u001b[0mpredict_proba\u001b[0m\u001b[1;33m(\u001b[0m\u001b[0mX_test\u001b[0m\u001b[1;33m)\u001b[0m\u001b[1;33m[\u001b[0m\u001b[1;33m:\u001b[0m\u001b[1;33m:\u001b[0m\u001b[1;33m,\u001b[0m \u001b[1;36m1\u001b[0m\u001b[1;33m]\u001b[0m\u001b[1;33m\u001b[0m\u001b[1;33m\u001b[0m\u001b[0m\n\u001b[0;32m     11\u001b[0m \u001b[1;33m\u001b[0m\u001b[0m\n\u001b[1;32m---> 12\u001b[1;33m \u001b[0mfpr_train\u001b[0m\u001b[1;33m,\u001b[0m\u001b[0mtpr_train\u001b[0m\u001b[1;33m,\u001b[0m\u001b[0mthreshold_train\u001b[0m \u001b[1;33m=\u001b[0m \u001b[0mroc_curve\u001b[0m\u001b[1;33m(\u001b[0m\u001b[0my_train\u001b[0m\u001b[1;33m,\u001b[0m\u001b[0my_train_proba\u001b[0m \u001b[1;33m)\u001b[0m\u001b[1;33m\u001b[0m\u001b[1;33m\u001b[0m\u001b[0m\n\u001b[0m\u001b[0;32m     13\u001b[0m \u001b[0mfpr_test\u001b[0m\u001b[1;33m,\u001b[0m\u001b[0mtpr_test\u001b[0m\u001b[1;33m,\u001b[0m\u001b[0mthreshold_test\u001b[0m \u001b[1;33m=\u001b[0m \u001b[0mroc_curve\u001b[0m\u001b[1;33m(\u001b[0m\u001b[0my_test\u001b[0m\u001b[1;33m,\u001b[0m\u001b[0my_test_proba\u001b[0m \u001b[1;33m)\u001b[0m\u001b[1;33m\u001b[0m\u001b[1;33m\u001b[0m\u001b[0m\n\u001b[0;32m     14\u001b[0m \u001b[1;33m\u001b[0m\u001b[0m\n",
      "\u001b[1;31mNameError\u001b[0m: name 'roc_curve' is not defined"
     ]
    }
   ],
   "source": [
    "lor = LogisticRegression(solver='liblinear',random_state=4)\n",
    "lor.fit(X_train, y_train)\n",
    "    \n",
    "    #train datset\n",
    "y_train_pred = lor.predict(X_train)\n",
    "y_train_proba = lor.predict_proba(X_train)[::, 1]\n",
    "    \n",
    "    #test datset\n",
    "y_test_pred = lor.predict(X_test)\n",
    "y_test_proba = lor.predict_proba(X_test)[::, 1]\n",
    "\n",
    "fpr_train,tpr_train,threshold_train = roc_curve(y_train,y_train_proba )\n",
    "fpr_test,tpr_test,threshold_test = roc_curve(y_test,y_test_proba )\n",
    "\n",
    "print('Logistic Regression Base model :')\n",
    "\n",
    "plt.figure(figsize=(14,5))\n",
    "plt.subplot(1,2,1)\n",
    "plt.plot(fpr_train,fpr_train)\n",
    "plt.plot(fpr_train,tpr_train)\n",
    "plt.xlabel('FPR')\n",
    "plt.ylabel('TPR')\n",
    "plt.title('Train Data')\n",
    "\n",
    "plt.subplot(1,2,2)\n",
    "plt.plot(fpr_test,fpr_test)\n",
    "plt.plot(fpr_test,tpr_test)\n",
    "plt.xlabel('FPR')\n",
    "plt.ylabel('TPR')\n",
    "plt.title('Test Data')\n",
    "plt.show()"
   ]
  },
  {
   "cell_type": "markdown",
   "metadata": {},
   "source": [
    "## 2. Improving the base model (Logistic Regression):\n",
    ">2.1 Data Transformation (Power transformation / Standard Scaler)<br>\n",
    "2.2 Feature selection (Recursive Feature Elimination)<br>\n",
    "2.3 SMOTE analysis"
   ]
  },
  {
   "cell_type": "markdown",
   "metadata": {},
   "source": [
    "> ### 2.1 Data Transformation (Power transformation / Standard Scaler)"
   ]
  },
  {
   "cell_type": "code",
   "execution_count": null,
   "metadata": {},
   "outputs": [],
   "source": [
    "#First we check for skewness & then transform the data to reduce the skewness \n",
    "#We are checking skewness for numerical columns & only for Train data and transform test data to avoid Data-leakage\n",
    "\n",
    "X_train[num_cols].skew()"
   ]
  },
  {
   "cell_type": "code",
   "execution_count": null,
   "metadata": {},
   "outputs": [],
   "source": [
    "#As Age feature is right skewed, we will use Power transformation to reduce the reduce\n",
    "\n",
    "print('Skewness before transformation :', X_train['Age'].skew())\n",
    "\n",
    "X_train['Age'] = pt.fit_transform(X_train[['Age']])\n",
    "X_test['Age'] = pt.transform(X_test[['Age']])\n",
    "\n",
    "print('\\nSkewness after Power transformation :', X_train['Age'].skew())"
   ]
  },
  {
   "cell_type": "code",
   "execution_count": null,
   "metadata": {},
   "outputs": [],
   "source": [
    "#Skewness of Region Code is -0.113, which is almost equal to 0\n",
    "#So we will avoid transformation for Region_code feature"
   ]
  },
  {
   "cell_type": "code",
   "execution_count": null,
   "metadata": {},
   "outputs": [],
   "source": [
    "#Policy_Sales_Channel is left skewed, so Power tranformation will not work properly\n",
    "#So, after trail & error, (To the power of 6) gives best results\n",
    "\n",
    "print('Skewness before transformation :', X_train['Policy_Sales_Channel'].skew())\n",
    "\n",
    "X_train['Policy_Sales_Channel'] = X_train['Policy_Sales_Channel']**6\n",
    "X_test['Policy_Sales_Channel'] = X_test['Policy_Sales_Channel']**6\n",
    "\n",
    "print('\\nSkewness after Power transformation :', X_train['Policy_Sales_Channel'].skew())"
   ]
  },
  {
   "cell_type": "code",
   "execution_count": null,
   "metadata": {},
   "outputs": [],
   "source": [
    "#Scaling the whole data using StandardScaler\n",
    "# Fit on Train data and tranform it on Test data to avoid Data-Leakage\n",
    "\n",
    "X_train[num_cols] = ss.fit_transform(X_train[num_cols])\n",
    "\n",
    "X_test[num_cols] = ss.transform(X_test[num_cols])"
   ]
  },
  {
   "cell_type": "code",
   "execution_count": null,
   "metadata": {},
   "outputs": [],
   "source": [
    "#Building the Logistic regression on transformed data to check the improvement\n",
    "\n",
    "lor = LogisticRegression(solver='liblinear',random_state=4)\n",
    "\n",
    "model_eval(lor)"
   ]
  },
  {
   "cell_type": "markdown",
   "metadata": {},
   "source": [
    "##### There is no change in base model after data transformation"
   ]
  },
  {
   "cell_type": "code",
   "execution_count": null,
   "metadata": {},
   "outputs": [],
   "source": [
    "# X and Y dataset after transformation"
   ]
  },
  {
   "cell_type": "code",
   "execution_count": null,
   "metadata": {},
   "outputs": [],
   "source": [
    "#concat train and test dataset for variable Y\n",
    "y_full = pd.concat([y_train, y_test], axis=0)\n",
    "y_full.shape"
   ]
  },
  {
   "cell_type": "code",
   "execution_count": null,
   "metadata": {},
   "outputs": [],
   "source": [
    "#concat train and test dataset for variable X\n",
    "\n",
    "X_full = pd.concat([X_train, X_test], axis=0)\n",
    "X_full.shape"
   ]
  },
  {
   "cell_type": "markdown",
   "metadata": {},
   "source": [
    ">### 2.2 Feature selection (Recursive Feature Elimination)"
   ]
  },
  {
   "cell_type": "code",
   "execution_count": null,
   "metadata": {},
   "outputs": [],
   "source": [
    "from sklearn.feature_selection import RFE, RFECV\n",
    "\n",
    "#estimator used is LogisticRegression\n",
    "lor = LogisticRegression(solver='liblinear',random_state=4)"
   ]
  },
  {
   "cell_type": "code",
   "execution_count": null,
   "metadata": {},
   "outputs": [],
   "source": [
    "#RUN RFECV to find out the best number of features to be selected\n",
    "rfe_n = RFECV(estimator=lor, cv=3, scoring='roc_auc', verbose=2, n_jobs=-1)\n",
    "rfe_n.fit(X_full, y_full)"
   ]
  },
  {
   "cell_type": "code",
   "execution_count": null,
   "metadata": {},
   "outputs": [],
   "source": [
    "#Number\n",
    "print('Number of features selected :', rfe_n.n_features_)\n",
    "\n",
    "#Selected features\n",
    "selected = list(X_full.columns[rfe_n.support_])\n",
    "print('\\nSelected features :',selected)"
   ]
  },
  {
   "cell_type": "code",
   "execution_count": null,
   "metadata": {},
   "outputs": [],
   "source": [
    "#selecting only features from RFE in both train & test dataset\n",
    "\n",
    "X_train_sel = X_train[selected]\n",
    "X_test_sel = X_test[selected]"
   ]
  },
  {
   "cell_type": "code",
   "execution_count": null,
   "metadata": {},
   "outputs": [],
   "source": [
    "lor = LogisticRegression(solver='liblinear',random_state=4)\n",
    "\n",
    "model_eval(lor, X_train_sel, X_test_sel, y_train, y_test)"
   ]
  },
  {
   "cell_type": "markdown",
   "metadata": {},
   "source": [
    "##### There is no change in base model after Feature selection (RFE)"
   ]
  },
  {
   "cell_type": "markdown",
   "metadata": {},
   "source": [
    ">### 2.3 SMOTE analysis"
   ]
  },
  {
   "cell_type": "code",
   "execution_count": null,
   "metadata": {},
   "outputs": [],
   "source": [
    "from imblearn.over_sampling import SMOTE"
   ]
  },
  {
   "cell_type": "code",
   "execution_count": null,
   "metadata": {},
   "outputs": [],
   "source": [
    "smote = SMOTE(sampling_strategy='minority')\n",
    "\n",
    "#SMOTE analysis on train dataset\n",
    "X_train_sm, y_train_sm = smote.fit_resample(X_train_sel, y_train)\n",
    "\n",
    "print('Shape of X train', X_train_sm.shape)\n",
    "\n",
    "print('\\nCount of target variable :')\n",
    "print(y_train_sm.value_counts())\n",
    "\n",
    "#after smote analysis, target variable is equally distributed"
   ]
  },
  {
   "cell_type": "code",
   "execution_count": 105,
   "metadata": {},
   "outputs": [
    {
     "name": "stdout",
     "output_type": "stream",
     "text": [
      "Train dataset :\n",
      "Confusion matrix :\n",
      " [[139172  94797]\n",
      " [  6990 226979]]\n",
      "Accuracy : 0.782477593185422\n",
      "AUC score : 0.83404263738345\n",
      "F1-score : 0.816845855563253\n",
      "Precision score : 0.7053944358808613\n",
      "Recall score : 0.9701242472293338\n",
      "\n",
      "\n",
      "Test dataset :\n",
      "Confusion matrix :\n",
      " [[59476 40710]\n",
      " [  383 13683]]\n",
      "Accuracy : 0.640330147393481\n",
      "AUC score : 0.834148755957173\n",
      "F1-score : 0.3997429118158314\n",
      "Precision score : 0.25155810490320446\n",
      "Recall score : 0.9727712213848998\n"
     ]
    }
   ],
   "source": [
    "#building LogisticRegression on smote analysed data\n",
    "lor = LogisticRegression(solver='liblinear',random_state=4)\n",
    "\n",
    "#Model evaluation\n",
    "model_eval(lor, X_train_sm,X_test_sel, y_train_sm, y_test)"
   ]
  },
  {
   "cell_type": "markdown",
   "metadata": {},
   "source": [
    "Even though there is huge change in Accuracy<br>\n",
    "Recall, Precision and F1-score has been increased<br>\n",
    "But the model is Over-fitting"
   ]
  },
  {
   "cell_type": "code",
   "execution_count": 113,
   "metadata": {},
   "outputs": [
    {
     "data": {
      "text/html": [
       "<div>\n",
       "<style scoped>\n",
       "    .dataframe tbody tr th:only-of-type {\n",
       "        vertical-align: middle;\n",
       "    }\n",
       "\n",
       "    .dataframe tbody tr th {\n",
       "        vertical-align: top;\n",
       "    }\n",
       "\n",
       "    .dataframe thead th {\n",
       "        text-align: right;\n",
       "    }\n",
       "</style>\n",
       "<table border=\"1\" class=\"dataframe\">\n",
       "  <thead>\n",
       "    <tr style=\"text-align: right;\">\n",
       "      <th></th>\n",
       "      <th>Model_Name</th>\n",
       "      <th>Accuracy_score_train</th>\n",
       "      <th>roc_auc_score_train</th>\n",
       "      <th>f1_score_train</th>\n",
       "      <th>precision_score_train</th>\n",
       "      <th>recall_score_train</th>\n",
       "      <th>Accuracy_score_test</th>\n",
       "      <th>roc_auc_score_test</th>\n",
       "      <th>f1_score_test</th>\n",
       "      <th>precision_score_test</th>\n",
       "      <th>recall_score_test</th>\n",
       "    </tr>\n",
       "  </thead>\n",
       "  <tbody>\n",
       "    <tr>\n",
       "      <th>0</th>\n",
       "      <td>Logistic Regression</td>\n",
       "      <td>0.877643</td>\n",
       "      <td>0.834437</td>\n",
       "      <td>0.000000</td>\n",
       "      <td>0.000000</td>\n",
       "      <td>0.000000</td>\n",
       "      <td>0.876877</td>\n",
       "      <td>0.833977</td>\n",
       "      <td>0.000000</td>\n",
       "      <td>0.000000</td>\n",
       "      <td>0.000000</td>\n",
       "    </tr>\n",
       "    <tr>\n",
       "      <th>1</th>\n",
       "      <td>Logistic Regression Final base_model</td>\n",
       "      <td>0.782478</td>\n",
       "      <td>0.834043</td>\n",
       "      <td>0.816846</td>\n",
       "      <td>0.705394</td>\n",
       "      <td>0.970124</td>\n",
       "      <td>0.640330</td>\n",
       "      <td>0.834149</td>\n",
       "      <td>0.399743</td>\n",
       "      <td>0.251558</td>\n",
       "      <td>0.972771</td>\n",
       "    </tr>\n",
       "  </tbody>\n",
       "</table>\n",
       "</div>"
      ],
      "text/plain": [
       "                             Model_Name  Accuracy_score_train  \\\n",
       "0                   Logistic Regression              0.877643   \n",
       "1  Logistic Regression Final base_model              0.782478   \n",
       "\n",
       "   roc_auc_score_train  f1_score_train  precision_score_train  \\\n",
       "0             0.834437        0.000000               0.000000   \n",
       "1             0.834043        0.816846               0.705394   \n",
       "\n",
       "   recall_score_train  Accuracy_score_test  roc_auc_score_test  f1_score_test  \\\n",
       "0            0.000000             0.876877            0.833977       0.000000   \n",
       "1            0.970124             0.640330            0.834149       0.399743   \n",
       "\n",
       "   precision_score_test  recall_score_test  \n",
       "0              0.000000           0.000000  \n",
       "1              0.251558           0.972771  "
      ]
     },
     "execution_count": 113,
     "metadata": {},
     "output_type": "execute_result"
    }
   ],
   "source": [
    "## Appending the evaluation metrics in a DataFrame for further reference\n",
    "##This is the final base model\n",
    "model_score_card(lor, 'Logistic Regression Final base_model', X_train_sm,X_test_sel, y_train_sm, y_test)"
   ]
  },
  {
   "cell_type": "code",
   "execution_count": 75,
   "metadata": {},
   "outputs": [
    {
     "name": "stdout",
     "output_type": "stream",
     "text": [
      "Logistic Regression Final-Base_model :\n"
     ]
    },
    {
     "data": {
      "image/png": "[encoded data removed]",
      "text/plain": [
       "<Figure size 1008x360 with 2 Axes>"
      ]
     },
     "metadata": {
      "needs_background": "light"
     },
     "output_type": "display_data"
    }
   ],
   "source": [
    "lor = LogisticRegression(solver='liblinear',random_state=4)\n",
    "lor.fit(X_train_sm, y_train_sm)\n",
    "    \n",
    "    #train datset\n",
    "y_train_sm_pred = lor.predict(X_train_sm)\n",
    "y_train_sm_proba = lor.predict_proba(X_train_sm)[::, 1]\n",
    "    \n",
    "    #test datset\n",
    "y_test_pred = lor.predict(X_test_sel)\n",
    "y_test_proba = lor.predict_proba(X_test_sel)[::, 1]\n",
    "\n",
    "fpr_train,tpr_train,threshold_train = roc_curve(y_train_sm,y_train_sm_proba )\n",
    "fpr_test,tpr_test,threshold_test = roc_curve(y_test,y_test_proba )\n",
    "\n",
    "print('Logistic Regression Final-Base_model :')\n",
    "\n",
    "plt.figure(figsize=(14,5))\n",
    "plt.subplot(1,2,1)\n",
    "plt.plot(fpr_train,fpr_train)\n",
    "plt.plot(fpr_train,tpr_train)\n",
    "plt.xlabel('FPR')\n",
    "plt.ylabel('TPR')\n",
    "plt.title('Train Data')\n",
    "\n",
    "plt.subplot(1,2,2)\n",
    "plt.plot(fpr_test,fpr_test)\n",
    "plt.plot(fpr_test,tpr_test)\n",
    "plt.xlabel('FPR')\n",
    "plt.ylabel('TPR')\n",
    "plt.title('Test Data')\n",
    "plt.show()"
   ]
  },
  {
   "cell_type": "markdown",
   "metadata": {},
   "source": [
    "## 3. Decision Tree Classifier\n",
    ">  3.1 Decision Tree Classifier<br>\n",
    ">  3.2 Decision Tree Classifier with Hyper-parameter tuning"
   ]
  },
  {
   "cell_type": "markdown",
   "metadata": {},
   "source": [
    ">### 3.1 Decision Tree Classifier"
   ]
  },
  {
   "cell_type": "code",
   "execution_count": 78,
   "metadata": {},
   "outputs": [],
   "source": [
    "from sklearn.tree import DecisionTreeClassifier"
   ]
  },
  {
   "cell_type": "code",
   "execution_count": 119,
   "metadata": {},
   "outputs": [
    {
     "name": "stdout",
     "output_type": "stream",
     "text": [
      "Train dataset :\n",
      "Confusion matrix :\n",
      " [[223382  10587]\n",
      " [  2973 230996]]\n",
      "Accuracy : 0.9710218020336028\n",
      "AUC score : 0.9971058640725625\n",
      "F1-score : 0.9714857681178926\n",
      "Precision score : 0.9561765521580575\n",
      "Recall score : 0.9872931884138497\n",
      "\n",
      "\n",
      "Test dataset :\n",
      "Confusion matrix :\n",
      " [[81895 18291]\n",
      " [ 6884  7182]]\n",
      "Accuracy : 0.7796537478556174\n",
      "AUC score : 0.6711210696377169\n",
      "F1-score : 0.36328688130706394\n",
      "Precision score : 0.28194558944765047\n",
      "Recall score : 0.5105929190956917\n"
     ]
    }
   ],
   "source": [
    "#Build DTC model on Dataset which are : RFE selected features, smote analysed\n",
    "\n",
    "dtc = DecisionTreeClassifier()\n",
    "\n",
    "model_eval(dtc, X_train_sm,X_test_sel, y_train_sm, y_test)"
   ]
  },
  {
   "cell_type": "markdown",
   "metadata": {},
   "source": [
    ">### 3.2 Decision Tree Classifier with Hyper-parameter tuning"
   ]
  },
  {
   "cell_type": "code",
   "execution_count": 77,
   "metadata": {},
   "outputs": [],
   "source": [
    "from sklearn.model_selection import GridSearchCV, RandomizedSearchCV\n",
    "\n",
    "from scipy.stats import randint as sp_randint"
   ]
  },
  {
   "cell_type": "code",
   "execution_count": 79,
   "metadata": {},
   "outputs": [
    {
     "data": {
      "text/plain": [
       "RandomizedSearchCV(cv=3, estimator=DecisionTreeClassifier(random_state=4),\n",
       "                   n_iter=100, n_jobs=-1,\n",
       "                   param_distributions={'criterion': ['gini', 'entropy'],\n",
       "                                        'max_depth': <scipy.stats._distn_infrastructure.rv_frozen object at 0x0000001950BB7E50>,\n",
       "                                        'min_samples_leaf': <scipy.stats._distn_infrastructure.rv_frozen object at 0x000000194E8C2430>},\n",
       "                   random_state=4, scoring='roc_auc')"
      ]
     },
     "execution_count": 79,
     "metadata": {},
     "output_type": "execute_result"
    }
   ],
   "source": [
    "# GridSearchCV & RandomizedSearchCV results were almost similar\n",
    "# We are considering RandomizedSearchCV for Hyper-parameter tuning\n",
    "\n",
    "dtc = DecisionTreeClassifier(random_state=4)\n",
    "\n",
    "params = {'max_depth' : sp_randint(2,10),\n",
    "         'min_samples_leaf' : sp_randint(1,12),\n",
    "         'criterion' : ['gini', 'entropy']}\n",
    "\n",
    "rsearch = RandomizedSearchCV(dtc, param_distributions=params, n_iter=100, n_jobs=-1, \n",
    "                             cv=3, scoring='roc_auc', random_state=4)\n",
    "\n",
    "# RandomizedSearchCV on overall transformed datasets\n",
    "rsearch.fit(X_full,y_full)"
   ]
  },
  {
   "cell_type": "code",
   "execution_count": 123,
   "metadata": {},
   "outputs": [
    {
     "name": "stdout",
     "output_type": "stream",
     "text": [
      "{'criterion': 'gini', 'max_depth': 9, 'min_samples_leaf': 3}\n"
     ]
    }
   ],
   "source": [
    "#Best parameters\n",
    "print(rsearch.best_params_)"
   ]
  },
  {
   "cell_type": "code",
   "execution_count": 124,
   "metadata": {},
   "outputs": [
    {
     "name": "stdout",
     "output_type": "stream",
     "text": [
      "Train dataset :\n",
      "Confusion matrix :\n",
      " [[157437  76532]\n",
      " [ 15583 218386]]\n",
      "Accuracy : 0.8031469981065867\n",
      "AUC score : 0.8628233728690978\n",
      "F1-score : 0.8258323611659958\n",
      "Precision score : 0.7404973585878108\n",
      "Recall score : 0.933397159452748\n",
      "\n",
      "\n",
      "Test dataset :\n",
      "Confusion matrix :\n",
      " [[67218 32968]\n",
      " [ 1367 12699]]\n",
      "Accuracy : 0.6994800966285054\n",
      "AUC score : 0.8460278243337576\n",
      "F1-score : 0.42519210486665665\n",
      "Precision score : 0.2780782622024657\n",
      "Recall score : 0.9028152993032845\n"
     ]
    }
   ],
   "source": [
    "dtc = DecisionTreeClassifier(**rsearch.best_params_, random_state=4)\n",
    "\n",
    "model_eval(dtc, X_train_sm, X_test_sel, y_train_sm, y_test)"
   ]
  },
  {
   "cell_type": "markdown",
   "metadata": {},
   "source": [
    "##### Decision Tree Classifier after hyper-parameter tuning is giving better results. It is better fit model compared to previous model\n",
    "##### Recall , Precision , F1-score, AUC score is increased compared to previous model."
   ]
  },
  {
   "cell_type": "code",
   "execution_count": 129,
   "metadata": {},
   "outputs": [
    {
     "data": {
      "text/html": [
       "<div>\n",
       "<style scoped>\n",
       "    .dataframe tbody tr th:only-of-type {\n",
       "        vertical-align: middle;\n",
       "    }\n",
       "\n",
       "    .dataframe tbody tr th {\n",
       "        vertical-align: top;\n",
       "    }\n",
       "\n",
       "    .dataframe thead th {\n",
       "        text-align: right;\n",
       "    }\n",
       "</style>\n",
       "<table border=\"1\" class=\"dataframe\">\n",
       "  <thead>\n",
       "    <tr style=\"text-align: right;\">\n",
       "      <th></th>\n",
       "      <th>Model_Name</th>\n",
       "      <th>Accuracy_score_train</th>\n",
       "      <th>roc_auc_score_train</th>\n",
       "      <th>f1_score_train</th>\n",
       "      <th>precision_score_train</th>\n",
       "      <th>recall_score_train</th>\n",
       "      <th>Accuracy_score_test</th>\n",
       "      <th>roc_auc_score_test</th>\n",
       "      <th>f1_score_test</th>\n",
       "      <th>precision_score_test</th>\n",
       "      <th>recall_score_test</th>\n",
       "    </tr>\n",
       "  </thead>\n",
       "  <tbody>\n",
       "    <tr>\n",
       "      <th>0</th>\n",
       "      <td>Logistic Regression</td>\n",
       "      <td>0.877643</td>\n",
       "      <td>0.834437</td>\n",
       "      <td>0.000000</td>\n",
       "      <td>0.000000</td>\n",
       "      <td>0.000000</td>\n",
       "      <td>0.876877</td>\n",
       "      <td>0.833977</td>\n",
       "      <td>0.000000</td>\n",
       "      <td>0.000000</td>\n",
       "      <td>0.000000</td>\n",
       "    </tr>\n",
       "    <tr>\n",
       "      <th>1</th>\n",
       "      <td>Logistic Regression Final base_model</td>\n",
       "      <td>0.782478</td>\n",
       "      <td>0.834043</td>\n",
       "      <td>0.816846</td>\n",
       "      <td>0.705394</td>\n",
       "      <td>0.970124</td>\n",
       "      <td>0.640330</td>\n",
       "      <td>0.834149</td>\n",
       "      <td>0.399743</td>\n",
       "      <td>0.251558</td>\n",
       "      <td>0.972771</td>\n",
       "    </tr>\n",
       "    <tr>\n",
       "      <th>2</th>\n",
       "      <td>DecisionTreeClassifier HyperParameter-tuning</td>\n",
       "      <td>0.803147</td>\n",
       "      <td>0.862823</td>\n",
       "      <td>0.825832</td>\n",
       "      <td>0.740497</td>\n",
       "      <td>0.933397</td>\n",
       "      <td>0.699480</td>\n",
       "      <td>0.846028</td>\n",
       "      <td>0.425192</td>\n",
       "      <td>0.278078</td>\n",
       "      <td>0.902815</td>\n",
       "    </tr>\n",
       "  </tbody>\n",
       "</table>\n",
       "</div>"
      ],
      "text/plain": [
       "                                     Model_Name  Accuracy_score_train  \\\n",
       "0                           Logistic Regression              0.877643   \n",
       "1          Logistic Regression Final base_model              0.782478   \n",
       "2  DecisionTreeClassifier HyperParameter-tuning              0.803147   \n",
       "\n",
       "   roc_auc_score_train  f1_score_train  precision_score_train  \\\n",
       "0             0.834437        0.000000               0.000000   \n",
       "1             0.834043        0.816846               0.705394   \n",
       "2             0.862823        0.825832               0.740497   \n",
       "\n",
       "   recall_score_train  Accuracy_score_test  roc_auc_score_test  f1_score_test  \\\n",
       "0            0.000000             0.876877            0.833977       0.000000   \n",
       "1            0.970124             0.640330            0.834149       0.399743   \n",
       "2            0.933397             0.699480            0.846028       0.425192   \n",
       "\n",
       "   precision_score_test  recall_score_test  \n",
       "0              0.000000           0.000000  \n",
       "1              0.251558           0.972771  \n",
       "2              0.278078           0.902815  "
      ]
     },
     "execution_count": 129,
     "metadata": {},
     "output_type": "execute_result"
    }
   ],
   "source": [
    "## Appending the evaluation metrics in a DataFrame for further reference\n",
    "\n",
    "dtc = DecisionTreeClassifier(**rsearch.best_params_, random_state=4)\n",
    "\n",
    "model_score_card(dtc, 'DecisionTreeClassifier HyperParameter-tuning', X_train_sm,X_test_sel, y_train_sm, y_test)"
   ]
  },
  {
   "cell_type": "code",
   "execution_count": 80,
   "metadata": {},
   "outputs": [
    {
     "name": "stdout",
     "output_type": "stream",
     "text": [
      "DecisionTreeClassifier HyperParameter-tuning :\n"
     ]
    },
    {
     "data": {
      "image/png": "[encoded data removed]",
      "text/plain": [
       "<Figure size 1008x360 with 2 Axes>"
      ]
     },
     "metadata": {
      "needs_background": "light"
     },
     "output_type": "display_data"
    }
   ],
   "source": [
    "dtc = DecisionTreeClassifier(**rsearch.best_params_, random_state=4)\n",
    "dtc.fit(X_train_sm, y_train_sm)\n",
    "    \n",
    "    #train datset\n",
    "y_train_sm_pred = dtc.predict(X_train_sm)\n",
    "y_train_sm_proba = dtc.predict_proba(X_train_sm)[::, 1]\n",
    "    \n",
    "    #test datset\n",
    "y_test_pred = dtc.predict(X_test_sel)\n",
    "y_test_proba = dtc.predict_proba(X_test_sel)[::, 1]\n",
    "\n",
    "fpr_train,tpr_train,threshold_train = roc_curve(y_train_sm,y_train_sm_proba )\n",
    "fpr_test,tpr_test,threshold_test = roc_curve(y_test,y_test_proba )\n",
    "\n",
    "print('DecisionTreeClassifier HyperParameter-tuning :')\n",
    "\n",
    "plt.figure(figsize=(14,5))\n",
    "plt.subplot(1,2,1)\n",
    "plt.plot(fpr_train,fpr_train)\n",
    "plt.plot(fpr_train,tpr_train)\n",
    "plt.xlabel('FPR')\n",
    "plt.ylabel('TPR')\n",
    "plt.title('Train Data')\n",
    "\n",
    "plt.subplot(1,2,2)\n",
    "plt.plot(fpr_test,fpr_test)\n",
    "plt.plot(fpr_test,tpr_test)\n",
    "plt.xlabel('FPR')\n",
    "plt.ylabel('TPR')\n",
    "plt.title('Test Data')\n",
    "plt.show()"
   ]
  },
  {
   "cell_type": "markdown",
   "metadata": {},
   "source": [
    "## 4. Random forest Classifier\n",
    ">  4.1 Random forest Classifier<br>\n",
    ">  4.2 Random forest Classifier with Hyper-parameter tuning"
   ]
  },
  {
   "cell_type": "markdown",
   "metadata": {},
   "source": [
    ">### 4.1 Random forest Classifier"
   ]
  },
  {
   "cell_type": "code",
   "execution_count": 81,
   "metadata": {},
   "outputs": [],
   "source": [
    "from sklearn.ensemble import RandomForestClassifier\n",
    "\n",
    "#Build RFC model on Dataset which are : RFE selected features, smote analysed"
   ]
  },
  {
   "cell_type": "code",
   "execution_count": 131,
   "metadata": {},
   "outputs": [
    {
     "name": "stdout",
     "output_type": "stream",
     "text": [
      "Train dataset :\n",
      "Confusion matrix :\n",
      " [[219098  14871]\n",
      " [  2701 231268]]\n",
      "Accuracy : 0.962448016617586\n",
      "AUC score : 0.9935201548439186\n",
      "F1-score : 0.9633999016887866\n",
      "Precision score : 0.9395829185947777\n",
      "Recall score : 0.9884557355889028\n",
      "\n",
      "\n",
      "Test dataset :\n",
      "Confusion matrix :\n",
      " [[81523 18663]\n",
      " [ 6528  7538]]\n",
      "Accuracy : 0.7795137065434303\n",
      "AUC score : 0.8078968525907091\n",
      "F1-score : 0.374400874164949\n",
      "Precision score : 0.2876989427884432\n",
      "Recall score : 0.5359021754585526\n"
     ]
    }
   ],
   "source": [
    "rfc = RandomForestClassifier(random_state=4)\n",
    "\n",
    "#model evaluation\n",
    "model_eval(rfc, X_train_sm, X_test_sel, y_train_sm, y_test)"
   ]
  },
  {
   "cell_type": "markdown",
   "metadata": {},
   "source": [
    ">### 4.2 Random forest Classifier with Hyper-parameter tuning"
   ]
  },
  {
   "cell_type": "code",
   "execution_count": 132,
   "metadata": {},
   "outputs": [],
   "source": [
    "# GridSearchCV & RandomizedSearchCV results were almost similar\n",
    "# We are considering RandomizedSearchCV for Hyper-parameter tuning"
   ]
  },
  {
   "cell_type": "code",
   "execution_count": 82,
   "metadata": {},
   "outputs": [
    {
     "name": "stdout",
     "output_type": "stream",
     "text": [
      "Fitting 3 folds for each of 10 candidates, totalling 30 fits\n",
      "Wall time: 8min 38s\n"
     ]
    },
    {
     "data": {
      "text/plain": [
       "RandomizedSearchCV(cv=3, estimator=RandomForestClassifier(random_state=4),\n",
       "                   n_jobs=-1,\n",
       "                   param_distributions={'criterion': ['gini', 'entropy'],\n",
       "                                        'max_depth': <scipy.stats._distn_infrastructure.rv_frozen object at 0x000000194E04E1F0>,\n",
       "                                        'max_features': <scipy.stats._distn_infrastructure.rv_frozen object at 0x000000194DEB6280>,\n",
       "                                        'min_samples_leaf': <scipy.stats._distn_infrastructure.rv_frozen object at 0x000000194E03EC70>,\n",
       "                                        'n_estimators': <scipy.stats._distn_infrastructure.rv_frozen object at 0x0000001950CF0670>},\n",
       "                   random_state=4, scoring='roc_auc', verbose=2)"
      ]
     },
     "execution_count": 82,
     "metadata": {},
     "output_type": "execute_result"
    }
   ],
   "source": [
    "%%time\n",
    "\n",
    "rfc = RandomForestClassifier(random_state=4)\n",
    "\n",
    "params = {'n_estimators': sp_randint(50,200),\n",
    "         'max_features': sp_randint(1,15),\n",
    "         'min_samples_leaf' : sp_randint(1,25),\n",
    "          'max_depth' : sp_randint(1,10),\n",
    "         'criterion' : ['gini', 'entropy']}\n",
    "\n",
    "rsearch = RandomizedSearchCV(rfc, param_distributions=params, cv=3, n_iter=10,verbose=2, \n",
    "                             scoring='roc_auc', random_state=4, n_jobs=-1)\n",
    "rsearch.fit(X_full, y_full)"
   ]
  },
  {
   "cell_type": "code",
   "execution_count": 134,
   "metadata": {},
   "outputs": [
    {
     "name": "stdout",
     "output_type": "stream",
     "text": [
      "{'criterion': 'entropy', 'max_depth': 9, 'max_features': 3, 'min_samples_leaf': 10, 'n_estimators': 108}\n"
     ]
    }
   ],
   "source": [
    "#Best parameters\n",
    "print(rsearch.best_params_)"
   ]
  },
  {
   "cell_type": "code",
   "execution_count": 135,
   "metadata": {},
   "outputs": [
    {
     "name": "stdout",
     "output_type": "stream",
     "text": [
      "Train dataset :\n",
      "Confusion matrix :\n",
      " [[154041  79928]\n",
      " [ 13214 220755]]\n",
      "Accuracy : 0.8009522629066244\n",
      "AUC score : 0.8682660337079658\n",
      "F1-score : 0.8257894854971084\n",
      "Precision score : 0.7341785202355969\n",
      "Recall score : 0.943522432459001\n",
      "\n",
      "\n",
      "Test dataset :\n",
      "Confusion matrix :\n",
      " [[65753 34433]\n",
      " [  928 13138]]\n",
      "Accuracy : 0.6904999474845079\n",
      "AUC score : 0.8523686508996864\n",
      "F1-score : 0.42630238330872683\n",
      "Precision score : 0.2761766622522125\n",
      "Recall score : 0.9340253092563628\n"
     ]
    }
   ],
   "source": [
    "rfc = RandomForestClassifier(**rsearch.best_params_, random_state=4)\n",
    "\n",
    "model_eval(rfc, X_train_sm, X_test_sel, y_train_sm, y_test)"
   ]
  },
  {
   "cell_type": "markdown",
   "metadata": {},
   "source": [
    "##### Random Forest Classifier after hyper-parameter tuning is giving better results. It is better fit model compared to previous model\n",
    "##### Recall , F1-score, AUC score is increased compared to previous model."
   ]
  },
  {
   "cell_type": "code",
   "execution_count": 136,
   "metadata": {},
   "outputs": [
    {
     "data": {
      "text/html": [
       "<div>\n",
       "<style scoped>\n",
       "    .dataframe tbody tr th:only-of-type {\n",
       "        vertical-align: middle;\n",
       "    }\n",
       "\n",
       "    .dataframe tbody tr th {\n",
       "        vertical-align: top;\n",
       "    }\n",
       "\n",
       "    .dataframe thead th {\n",
       "        text-align: right;\n",
       "    }\n",
       "</style>\n",
       "<table border=\"1\" class=\"dataframe\">\n",
       "  <thead>\n",
       "    <tr style=\"text-align: right;\">\n",
       "      <th></th>\n",
       "      <th>Model_Name</th>\n",
       "      <th>Accuracy_score_train</th>\n",
       "      <th>roc_auc_score_train</th>\n",
       "      <th>f1_score_train</th>\n",
       "      <th>precision_score_train</th>\n",
       "      <th>recall_score_train</th>\n",
       "      <th>Accuracy_score_test</th>\n",
       "      <th>roc_auc_score_test</th>\n",
       "      <th>f1_score_test</th>\n",
       "      <th>precision_score_test</th>\n",
       "      <th>recall_score_test</th>\n",
       "    </tr>\n",
       "  </thead>\n",
       "  <tbody>\n",
       "    <tr>\n",
       "      <th>0</th>\n",
       "      <td>Logistic Regression</td>\n",
       "      <td>0.877643</td>\n",
       "      <td>0.834437</td>\n",
       "      <td>0.000000</td>\n",
       "      <td>0.000000</td>\n",
       "      <td>0.000000</td>\n",
       "      <td>0.876877</td>\n",
       "      <td>0.833977</td>\n",
       "      <td>0.000000</td>\n",
       "      <td>0.000000</td>\n",
       "      <td>0.000000</td>\n",
       "    </tr>\n",
       "    <tr>\n",
       "      <th>1</th>\n",
       "      <td>Logistic Regression Final base_model</td>\n",
       "      <td>0.782478</td>\n",
       "      <td>0.834043</td>\n",
       "      <td>0.816846</td>\n",
       "      <td>0.705394</td>\n",
       "      <td>0.970124</td>\n",
       "      <td>0.640330</td>\n",
       "      <td>0.834149</td>\n",
       "      <td>0.399743</td>\n",
       "      <td>0.251558</td>\n",
       "      <td>0.972771</td>\n",
       "    </tr>\n",
       "    <tr>\n",
       "      <th>2</th>\n",
       "      <td>DecisionTreeClassifier HyperParameter-tuning</td>\n",
       "      <td>0.803147</td>\n",
       "      <td>0.862823</td>\n",
       "      <td>0.825832</td>\n",
       "      <td>0.740497</td>\n",
       "      <td>0.933397</td>\n",
       "      <td>0.699480</td>\n",
       "      <td>0.846028</td>\n",
       "      <td>0.425192</td>\n",
       "      <td>0.278078</td>\n",
       "      <td>0.902815</td>\n",
       "    </tr>\n",
       "    <tr>\n",
       "      <th>3</th>\n",
       "      <td>RandomForestClassifier HyperParameter-tuning</td>\n",
       "      <td>0.800952</td>\n",
       "      <td>0.868266</td>\n",
       "      <td>0.825789</td>\n",
       "      <td>0.734179</td>\n",
       "      <td>0.943522</td>\n",
       "      <td>0.690500</td>\n",
       "      <td>0.852369</td>\n",
       "      <td>0.426302</td>\n",
       "      <td>0.276177</td>\n",
       "      <td>0.934025</td>\n",
       "    </tr>\n",
       "  </tbody>\n",
       "</table>\n",
       "</div>"
      ],
      "text/plain": [
       "                                     Model_Name  Accuracy_score_train  \\\n",
       "0                           Logistic Regression              0.877643   \n",
       "1          Logistic Regression Final base_model              0.782478   \n",
       "2  DecisionTreeClassifier HyperParameter-tuning              0.803147   \n",
       "3  RandomForestClassifier HyperParameter-tuning              0.800952   \n",
       "\n",
       "   roc_auc_score_train  f1_score_train  precision_score_train  \\\n",
       "0             0.834437        0.000000               0.000000   \n",
       "1             0.834043        0.816846               0.705394   \n",
       "2             0.862823        0.825832               0.740497   \n",
       "3             0.868266        0.825789               0.734179   \n",
       "\n",
       "   recall_score_train  Accuracy_score_test  roc_auc_score_test  f1_score_test  \\\n",
       "0            0.000000             0.876877            0.833977       0.000000   \n",
       "1            0.970124             0.640330            0.834149       0.399743   \n",
       "2            0.933397             0.699480            0.846028       0.425192   \n",
       "3            0.943522             0.690500            0.852369       0.426302   \n",
       "\n",
       "   precision_score_test  recall_score_test  \n",
       "0              0.000000           0.000000  \n",
       "1              0.251558           0.972771  \n",
       "2              0.278078           0.902815  \n",
       "3              0.276177           0.934025  "
      ]
     },
     "execution_count": 136,
     "metadata": {},
     "output_type": "execute_result"
    }
   ],
   "source": [
    "## Appending the evaluation metrics in a DataFrame for further reference\n",
    "\n",
    "rfc = RandomForestClassifier(**rsearch.best_params_, random_state=4)\n",
    "\n",
    "model_score_card(rfc, 'RandomForestClassifier HyperParameter-tuning', X_train_sm,X_test_sel, y_train_sm, y_test)"
   ]
  },
  {
   "cell_type": "code",
   "execution_count": 84,
   "metadata": {},
   "outputs": [
    {
     "name": "stdout",
     "output_type": "stream",
     "text": [
      "RandomForestClassifier HyperParameter-tuning :\n"
     ]
    },
    {
     "data": {
      "image/png": "[encoded data removed]",
      "text/plain": [
       "<Figure size 1008x360 with 2 Axes>"
      ]
     },
     "metadata": {
      "needs_background": "light"
     },
     "output_type": "display_data"
    }
   ],
   "source": [
    "rfc = RandomForestClassifier(**rsearch.best_params_, random_state=4)\n",
    "rfc.fit(X_train_sm, y_train_sm)\n",
    "    \n",
    "    #train datset\n",
    "y_train_sm_pred = rfc.predict(X_train_sm)\n",
    "y_train_sm_proba = rfc.predict_proba(X_train_sm)[::, 1]\n",
    "    \n",
    "    #test datset\n",
    "y_test_pred = rfc.predict(X_test_sel)\n",
    "y_test_proba = rfc.predict_proba(X_test_sel)[::, 1]\n",
    "\n",
    "fpr_train,tpr_train,threshold_train = roc_curve(y_train_sm,y_train_sm_proba )\n",
    "fpr_test,tpr_test,threshold_test = roc_curve(y_test,y_test_proba )\n",
    "\n",
    "print('RandomForestClassifier HyperParameter-tuning :')\n",
    "\n",
    "plt.figure(figsize=(14,5))\n",
    "plt.subplot(1,2,1)\n",
    "plt.plot(fpr_train,fpr_train)\n",
    "plt.plot(fpr_train,tpr_train)\n",
    "plt.xlabel('FPR')\n",
    "plt.ylabel('TPR')\n",
    "plt.title('Train Data')\n",
    "\n",
    "plt.subplot(1,2,2)\n",
    "plt.plot(fpr_test,fpr_test)\n",
    "plt.plot(fpr_test,tpr_test)\n",
    "plt.xlabel('FPR')\n",
    "plt.ylabel('TPR')\n",
    "plt.title('Test Data')\n",
    "plt.show()"
   ]
  },
  {
   "cell_type": "markdown",
   "metadata": {},
   "source": [
    "## 5. LGBMClassifier\n",
    ">  5.1 LGBMClassifier<br>\n",
    ">  5.2 LGBMClassifier with Hyper-parameter tuning"
   ]
  },
  {
   "cell_type": "markdown",
   "metadata": {},
   "source": [
    ">### 5.1 LGBMClassifier"
   ]
  },
  {
   "cell_type": "code",
   "execution_count": 87,
   "metadata": {},
   "outputs": [],
   "source": [
    "import lightgbm as lgb\n",
    "\n",
    "#Build RFC model on Dataset which are : RFE selected features, smote analysed"
   ]
  },
  {
   "cell_type": "code",
   "execution_count": 139,
   "metadata": {},
   "outputs": [
    {
     "name": "stdout",
     "output_type": "stream",
     "text": [
      "Train dataset :\n",
      "Confusion matrix :\n",
      " [[170957  63012]\n",
      " [ 18277 215692]]\n",
      "Accuracy : 0.8262825417042429\n",
      "AUC score : 0.9058494926751107\n",
      "F1-score : 0.8414408404577577\n",
      "Precision score : 0.7739106722544348\n",
      "Recall score : 0.9218828135351265\n",
      "\n",
      "\n",
      "Test dataset :\n",
      "Confusion matrix :\n",
      " [[73047 27139]\n",
      " [ 2424 11642]]\n",
      "Accuracy : 0.7412474179883065\n",
      "AUC score : 0.849105849739703\n",
      "F1-score : 0.44059265426608896\n",
      "Precision score : 0.30019855083674996\n",
      "Recall score : 0.8276695577989478\n"
     ]
    }
   ],
   "source": [
    "lgbc = lgb.LGBMClassifier()\n",
    "\n",
    "#model evaluation\n",
    "model_eval(lgbc, X_train_sm, X_test_sel, y_train_sm, y_test)"
   ]
  },
  {
   "cell_type": "markdown",
   "metadata": {},
   "source": [
    ">### 5.2 LGBMClassifier with Hyper-parameter tuning"
   ]
  },
  {
   "cell_type": "code",
   "execution_count": 142,
   "metadata": {},
   "outputs": [],
   "source": [
    "from scipy.stats import uniform as sp_uniform"
   ]
  },
  {
   "cell_type": "code",
   "execution_count": 143,
   "metadata": {},
   "outputs": [
    {
     "data": {
      "text/plain": [
       "RandomizedSearchCV(cv=3, estimator=LGBMClassifier(), n_jobs=-1,\n",
       "                   param_distributions={'learning_rate': <scipy.stats._distn_infrastructure.rv_frozen object at 0x000000919DE7B100>,\n",
       "                                        'max_depth': <scipy.stats._distn_infrastructure.rv_frozen object at 0x000000919DE7CF10>,\n",
       "                                        'n_estimators': <scipy.stats._distn_infrastructure.rv_frozen object at 0x000000919EE093A0>},\n",
       "                   random_state=4, scoring='roc_auc')"
      ]
     },
     "execution_count": 143,
     "metadata": {},
     "output_type": "execute_result"
    }
   ],
   "source": [
    "lgbc = lgb.LGBMClassifier()\n",
    "\n",
    "params = {'n_estimators':sp_randint(50,250),\n",
    "         'max_depth' : sp_randint(1,50),\n",
    "         'learning_rate' : sp_uniform(0,0.5)}\n",
    "\n",
    "rsearch = RandomizedSearchCV(lgbc, param_distributions=params, scoring='roc_auc', cv=3, n_iter=10,\n",
    "                             n_jobs=-1, random_state=4)\n",
    "rsearch.fit(X_full, y_full)"
   ]
  },
  {
   "cell_type": "code",
   "execution_count": 144,
   "metadata": {},
   "outputs": [
    {
     "name": "stdout",
     "output_type": "stream",
     "text": [
      "{'learning_rate': 0.30626266966227916, 'max_depth': 3, 'n_estimators': 224}\n"
     ]
    }
   ],
   "source": [
    "#Best parameters\n",
    "print(rsearch.best_params_)"
   ]
  },
  {
   "cell_type": "code",
   "execution_count": 145,
   "metadata": {},
   "outputs": [
    {
     "name": "stdout",
     "output_type": "stream",
     "text": [
      "Train dataset :\n",
      "Confusion matrix :\n",
      " [[172196  61773]\n",
      " [ 18560 215409]]\n",
      "Accuracy : 0.8283255474015788\n",
      "AUC score : 0.9135424628284828\n",
      "F1-score : 0.8428390045211689\n",
      "Precision score : 0.777139208173691\n",
      "Recall score : 0.9206732515846117\n",
      "\n",
      "\n",
      "Test dataset :\n",
      "Confusion matrix :\n",
      " [[73644 26542]\n",
      " [ 2503 11563]]\n",
      "Accuracy : 0.7457812554703638\n",
      "AUC score : 0.8482661950889928\n",
      "F1-score : 0.4432730827471201\n",
      "Precision score : 0.30345099068363734\n",
      "Recall score : 0.8220531778757287\n"
     ]
    }
   ],
   "source": [
    "lgbc = lgb.LGBMClassifier(**rsearch.best_params_, random_state=4)\n",
    "\n",
    "model_eval(lgbc,  X_train_sm, X_test_sel, y_train_sm, y_test)"
   ]
  },
  {
   "cell_type": "markdown",
   "metadata": {},
   "source": [
    "##### LGBMClassifier model results before and after hyper-parameter tuning is same, Model is slightly over-fit"
   ]
  },
  {
   "cell_type": "code",
   "execution_count": 146,
   "metadata": {},
   "outputs": [
    {
     "data": {
      "text/html": [
       "<div>\n",
       "<style scoped>\n",
       "    .dataframe tbody tr th:only-of-type {\n",
       "        vertical-align: middle;\n",
       "    }\n",
       "\n",
       "    .dataframe tbody tr th {\n",
       "        vertical-align: top;\n",
       "    }\n",
       "\n",
       "    .dataframe thead th {\n",
       "        text-align: right;\n",
       "    }\n",
       "</style>\n",
       "<table border=\"1\" class=\"dataframe\">\n",
       "  <thead>\n",
       "    <tr style=\"text-align: right;\">\n",
       "      <th></th>\n",
       "      <th>Model_Name</th>\n",
       "      <th>Accuracy_score_train</th>\n",
       "      <th>roc_auc_score_train</th>\n",
       "      <th>f1_score_train</th>\n",
       "      <th>precision_score_train</th>\n",
       "      <th>recall_score_train</th>\n",
       "      <th>Accuracy_score_test</th>\n",
       "      <th>roc_auc_score_test</th>\n",
       "      <th>f1_score_test</th>\n",
       "      <th>precision_score_test</th>\n",
       "      <th>recall_score_test</th>\n",
       "    </tr>\n",
       "  </thead>\n",
       "  <tbody>\n",
       "    <tr>\n",
       "      <th>0</th>\n",
       "      <td>Logistic Regression</td>\n",
       "      <td>0.877643</td>\n",
       "      <td>0.834437</td>\n",
       "      <td>0.000000</td>\n",
       "      <td>0.000000</td>\n",
       "      <td>0.000000</td>\n",
       "      <td>0.876877</td>\n",
       "      <td>0.833977</td>\n",
       "      <td>0.000000</td>\n",
       "      <td>0.000000</td>\n",
       "      <td>0.000000</td>\n",
       "    </tr>\n",
       "    <tr>\n",
       "      <th>1</th>\n",
       "      <td>Logistic Regression Final base_model</td>\n",
       "      <td>0.782478</td>\n",
       "      <td>0.834043</td>\n",
       "      <td>0.816846</td>\n",
       "      <td>0.705394</td>\n",
       "      <td>0.970124</td>\n",
       "      <td>0.640330</td>\n",
       "      <td>0.834149</td>\n",
       "      <td>0.399743</td>\n",
       "      <td>0.251558</td>\n",
       "      <td>0.972771</td>\n",
       "    </tr>\n",
       "    <tr>\n",
       "      <th>2</th>\n",
       "      <td>DecisionTreeClassifier HyperParameter-tuning</td>\n",
       "      <td>0.803147</td>\n",
       "      <td>0.862823</td>\n",
       "      <td>0.825832</td>\n",
       "      <td>0.740497</td>\n",
       "      <td>0.933397</td>\n",
       "      <td>0.699480</td>\n",
       "      <td>0.846028</td>\n",
       "      <td>0.425192</td>\n",
       "      <td>0.278078</td>\n",
       "      <td>0.902815</td>\n",
       "    </tr>\n",
       "    <tr>\n",
       "      <th>3</th>\n",
       "      <td>RandomForestClassifier HyperParameter-tuning</td>\n",
       "      <td>0.800952</td>\n",
       "      <td>0.868266</td>\n",
       "      <td>0.825789</td>\n",
       "      <td>0.734179</td>\n",
       "      <td>0.943522</td>\n",
       "      <td>0.690500</td>\n",
       "      <td>0.852369</td>\n",
       "      <td>0.426302</td>\n",
       "      <td>0.276177</td>\n",
       "      <td>0.934025</td>\n",
       "    </tr>\n",
       "    <tr>\n",
       "      <th>4</th>\n",
       "      <td>LGBMClassifier</td>\n",
       "      <td>0.825996</td>\n",
       "      <td>0.905526</td>\n",
       "      <td>0.841440</td>\n",
       "      <td>0.772846</td>\n",
       "      <td>0.923396</td>\n",
       "      <td>0.739908</td>\n",
       "      <td>0.849445</td>\n",
       "      <td>0.440882</td>\n",
       "      <td>0.299780</td>\n",
       "      <td>0.832930</td>\n",
       "    </tr>\n",
       "  </tbody>\n",
       "</table>\n",
       "</div>"
      ],
      "text/plain": [
       "                                     Model_Name  Accuracy_score_train  \\\n",
       "0                           Logistic Regression              0.877643   \n",
       "1          Logistic Regression Final base_model              0.782478   \n",
       "2  DecisionTreeClassifier HyperParameter-tuning              0.803147   \n",
       "3  RandomForestClassifier HyperParameter-tuning              0.800952   \n",
       "4                                LGBMClassifier              0.825996   \n",
       "\n",
       "   roc_auc_score_train  f1_score_train  precision_score_train  \\\n",
       "0             0.834437        0.000000               0.000000   \n",
       "1             0.834043        0.816846               0.705394   \n",
       "2             0.862823        0.825832               0.740497   \n",
       "3             0.868266        0.825789               0.734179   \n",
       "4             0.905526        0.841440               0.772846   \n",
       "\n",
       "   recall_score_train  Accuracy_score_test  roc_auc_score_test  f1_score_test  \\\n",
       "0            0.000000             0.876877            0.833977       0.000000   \n",
       "1            0.970124             0.640330            0.834149       0.399743   \n",
       "2            0.933397             0.699480            0.846028       0.425192   \n",
       "3            0.943522             0.690500            0.852369       0.426302   \n",
       "4            0.923396             0.739908            0.849445       0.440882   \n",
       "\n",
       "   precision_score_test  recall_score_test  \n",
       "0              0.000000           0.000000  \n",
       "1              0.251558           0.972771  \n",
       "2              0.278078           0.902815  \n",
       "3              0.276177           0.934025  \n",
       "4              0.299780           0.832930  "
      ]
     },
     "execution_count": 146,
     "metadata": {},
     "output_type": "execute_result"
    }
   ],
   "source": [
    "## Appending the evaluation metrics in a DataFrame for further reference\n",
    "\n",
    "lgbc = lgb.LGBMClassifier(random_state=4)\n",
    "\n",
    "model_score_card(lgbc, 'LGBMClassifier', X_train_sm,X_test_sel, y_train_sm, y_test)"
   ]
  },
  {
   "cell_type": "code",
   "execution_count": 88,
   "metadata": {},
   "outputs": [
    {
     "name": "stdout",
     "output_type": "stream",
     "text": [
      "LGBMClassifier :\n"
     ]
    },
    {
     "data": {
      "image/png": "[encoded data removed]",
      "text/plain": [
       "<Figure size 1008x360 with 2 Axes>"
      ]
     },
     "metadata": {
      "needs_background": "light"
     },
     "output_type": "display_data"
    }
   ],
   "source": [
    "lgbc = lgb.LGBMClassifier(random_state=4)\n",
    "lgbc.fit(X_train_sm, y_train_sm)\n",
    "    \n",
    "    #train datset\n",
    "y_train_sm_pred = lgbc.predict(X_train_sm)\n",
    "y_train_sm_proba = lgbc.predict_proba(X_train_sm)[::, 1]\n",
    "    \n",
    "    #test datset\n",
    "y_test_pred = lgbc.predict(X_test_sel)\n",
    "y_test_proba = lgbc.predict_proba(X_test_sel)[::, 1]\n",
    "\n",
    "fpr_train,tpr_train,threshold_train = roc_curve(y_train_sm,y_train_sm_proba )\n",
    "fpr_test,tpr_test,threshold_test = roc_curve(y_test,y_test_proba )\n",
    "\n",
    "print('LGBMClassifier :')\n",
    "\n",
    "plt.figure(figsize=(14,5))\n",
    "plt.subplot(1,2,1)\n",
    "plt.plot(fpr_train,fpr_train)\n",
    "plt.plot(fpr_train,tpr_train)\n",
    "plt.xlabel('FPR')\n",
    "plt.ylabel('TPR')\n",
    "plt.title('Train Data')\n",
    "\n",
    "plt.subplot(1,2,2)\n",
    "plt.plot(fpr_test,fpr_test)\n",
    "plt.plot(fpr_test,tpr_test)\n",
    "plt.xlabel('FPR')\n",
    "plt.ylabel('TPR')\n",
    "plt.title('Test Data')\n",
    "plt.show()"
   ]
  },
  {
   "cell_type": "markdown",
   "metadata": {},
   "source": [
    "## 6. Naive Bayes\n",
    ">  6.1 GaussianNB<br>\n",
    ">  6.2 GaussianNB SMOTE analysis<br>\n",
    ">  6.3 GaussianNB Hyper-parameter Tuning<br>"
   ]
  },
  {
   "cell_type": "code",
   "execution_count": 89,
   "metadata": {},
   "outputs": [],
   "source": [
    "from sklearn.naive_bayes import GaussianNB\n",
    "\n",
    "from sklearn.metrics import roc_curve"
   ]
  },
  {
   "cell_type": "markdown",
   "metadata": {},
   "source": [
    ">###  6.1 GaussianNB<br>\n"
   ]
  },
  {
   "cell_type": "code",
   "execution_count": 152,
   "metadata": {},
   "outputs": [
    {
     "name": "stdout",
     "output_type": "stream",
     "text": [
      "Train dataset :\n",
      "Confusion matrix :\n",
      " [[162528  71441]\n",
      " [  4082  28537]]\n",
      "Accuracy : 0.7167051780275181\n",
      "AUC score : 0.8170812425096133\n",
      "F1-score : 0.4304320610571884\n",
      "Precision score : 0.2854327952149473\n",
      "Recall score : 0.8748582114718416\n",
      "\n",
      "\n",
      "Test dataset :\n",
      "Confusion matrix :\n",
      " [[69439 30747]\n",
      " [ 1768 12298]]\n",
      "Accuracy : 0.7154097958897875\n",
      "AUC score : 0.8179248168859496\n",
      "F1-score : 0.43067009857995836\n",
      "Precision score : 0.28570101057033337\n",
      "Recall score : 0.8743068391866913\n"
     ]
    }
   ],
   "source": [
    "#Model built on transformed data\n",
    "nb = GaussianNB()\n",
    "\n",
    "model_eval(nb, X_train_sel, X_test_sel, y_train, y_test)"
   ]
  },
  {
   "cell_type": "code",
   "execution_count": 90,
   "metadata": {},
   "outputs": [
    {
     "name": "stdout",
     "output_type": "stream",
     "text": [
      " GaussianNB :\n"
     ]
    },
    {
     "data": {
      "image/png": "[encoded data removed]",
      "text/plain": [
       "<Figure size 1008x360 with 2 Axes>"
      ]
     },
     "metadata": {
      "needs_background": "light"
     },
     "output_type": "display_data"
    }
   ],
   "source": [
    "nb = GaussianNB()\n",
    "nb.fit(X_train_sm, y_train_sm)\n",
    "    \n",
    "    #train datset\n",
    "y_train_sm_pred = nb.predict(X_train_sm)\n",
    "y_train_sm_proba = nb.predict_proba(X_train_sm)[::, 1]\n",
    "    \n",
    "    #test datset\n",
    "y_test_pred = nb.predict(X_test_sel)\n",
    "y_test_proba = nb.predict_proba(X_test_sel)[::, 1]\n",
    "\n",
    "fpr_train,tpr_train,threshold_train = roc_curve(y_train_sm,y_train_sm_proba )\n",
    "fpr_test,tpr_test,threshold_test = roc_curve(y_test,y_test_proba )\n",
    "\n",
    "print(' GaussianNB :')\n",
    "\n",
    "plt.figure(figsize=(14,5))\n",
    "plt.subplot(1,2,1)\n",
    "plt.plot(fpr_train,fpr_train)\n",
    "plt.plot(fpr_train,tpr_train)\n",
    "plt.xlabel('FPR')\n",
    "plt.ylabel('TPR')\n",
    "plt.title('Train Data')\n",
    "\n",
    "plt.subplot(1,2,2)\n",
    "plt.plot(fpr_test,fpr_test)\n",
    "plt.plot(fpr_test,tpr_test)\n",
    "plt.xlabel('FPR')\n",
    "plt.ylabel('TPR')\n",
    "plt.title('Test Data')\n",
    "plt.show()"
   ]
  },
  {
   "cell_type": "markdown",
   "metadata": {},
   "source": [
    "> ###  6.2 GaussianNB SMOTE analysis\n"
   ]
  },
  {
   "cell_type": "code",
   "execution_count": 153,
   "metadata": {},
   "outputs": [
    {
     "name": "stdout",
     "output_type": "stream",
     "text": [
      "Train dataset :\n",
      "Confusion matrix :\n",
      " [[142654  91315]\n",
      " [  7032 226937]]\n",
      "Accuracy : 0.7898289944394343\n",
      "AUC score : 0.8173339172695934\n",
      "F1-score : 0.8219064468754357\n",
      "Precision score : 0.7130732878347976\n",
      "Recall score : 0.96994473626848\n",
      "\n",
      "\n",
      "Test dataset :\n",
      "Confusion matrix :\n",
      " [[60919 39267]\n",
      " [  415 13651]]\n",
      "Accuracy : 0.6526800406119805\n",
      "AUC score : 0.8180770270212235\n",
      "F1-score : 0.4075898722082886\n",
      "Precision score : 0.2579651536339242\n",
      "Recall score : 0.9704962320489122\n"
     ]
    }
   ],
   "source": [
    "nb = GaussianNB()\n",
    "\n",
    "model_eval(nb, X_train_sm, X_test_sel, y_train_sm, y_test)"
   ]
  },
  {
   "cell_type": "code",
   "execution_count": 154,
   "metadata": {},
   "outputs": [],
   "source": [
    "#Recall is increased but the model is over fitted, so we cant consider this model"
   ]
  },
  {
   "cell_type": "markdown",
   "metadata": {},
   "source": [
    "> ### 6.3 GaussianNB Hyper-parameter Tuning"
   ]
  },
  {
   "cell_type": "code",
   "execution_count": 156,
   "metadata": {},
   "outputs": [
    {
     "name": "stdout",
     "output_type": "stream",
     "text": [
      "Fitting 3 folds for each of 200 candidates, totalling 600 fits\n"
     ]
    },
    {
     "data": {
      "text/plain": [
       "GridSearchCV(cv=3, estimator=GaussianNB(),\n",
       "             param_grid={'var_smoothing': array([1.00000000e-05, 8.90735464e-06, 7.93409667e-06, 7.06718127e-06,\n",
       "       6.29498899e-06, 5.60716994e-06, 4.99450512e-06, 4.44878283e-06,\n",
       "       3.96268864e-06, 3.52970730e-06, 3.14403547e-06, 2.80050389e-06,\n",
       "       2.49450814e-06, 2.22194686e-06, 1.97916687e-06, 1.76291412e-06,\n",
       "       1.57029012e-06, 1.39871310e-06, 1.24...\n",
       "       1.43145894e-14, 1.27505124e-14, 1.13573336e-14, 1.01163798e-14,\n",
       "       9.01101825e-15, 8.02643352e-15, 7.14942899e-15, 6.36824994e-15,\n",
       "       5.67242607e-15, 5.05263107e-15, 4.50055768e-15, 4.00880633e-15,\n",
       "       3.57078596e-15, 3.18062569e-15, 2.83309610e-15, 2.52353917e-15,\n",
       "       2.24780583e-15, 2.00220037e-15, 1.78343088e-15, 1.58856513e-15,\n",
       "       1.41499130e-15, 1.26038293e-15, 1.12266777e-15, 1.00000000e-15])},\n",
       "             scoring='accuracy', verbose=1)"
      ]
     },
     "execution_count": 156,
     "metadata": {},
     "output_type": "execute_result"
    }
   ],
   "source": [
    "nb_classifier = GaussianNB()\n",
    "\n",
    "#default var_smoothing is 1e-09\n",
    "#We can try a range between 1e-0.15 to 1e-0.5\n",
    "\n",
    "params_NB = {'var_smoothing': np.logspace(-5, -15, num=200)}\n",
    "gs_NB = GridSearchCV(estimator=nb_classifier, \n",
    "                 param_grid=params_NB, \n",
    "                 cv=3,   # use any cross validation technique \n",
    "                 verbose=1, \n",
    "                 scoring='accuracy') \n",
    "gs_NB.fit(X_full, y_full)"
   ]
  },
  {
   "cell_type": "code",
   "execution_count": 157,
   "metadata": {},
   "outputs": [
    {
     "name": "stdout",
     "output_type": "stream",
     "text": [
      "{'var_smoothing': 8.90735463861044e-06}\n"
     ]
    }
   ],
   "source": [
    "#Best parameters\n",
    "print(gs_NB.best_params_)"
   ]
  },
  {
   "cell_type": "code",
   "execution_count": 160,
   "metadata": {},
   "outputs": [
    {
     "name": "stdout",
     "output_type": "stream",
     "text": [
      "Train dataset :\n",
      "Confusion matrix :\n",
      " [[162548  71421]\n",
      " [  4093  28526]]\n",
      "Accuracy : 0.7167389379867061\n",
      "AUC score : 0.8170811358511204\n",
      "F1-score : 0.4303667607078738\n",
      "Precision score : 0.28541126797202515\n",
      "Recall score : 0.8745209847021674\n",
      "\n",
      "\n",
      "Test dataset :\n",
      "Confusion matrix :\n",
      " [[69445 30741]\n",
      " [ 1771 12295]]\n",
      "Accuracy : 0.7154360536358225\n",
      "AUC score : 0.8179247672129499\n",
      "F1-score : 0.43063290252530556\n",
      "Precision score : 0.28569104935402917\n",
      "Recall score : 0.8740935589364425\n"
     ]
    }
   ],
   "source": [
    "gnb = GaussianNB(**gs_NB.best_params_)\n",
    "\n",
    "#As we got better result on GaussianNB for data without SMOTE analysis, we will use the same dataset\n",
    "model_eval(gnb,  X_train_sel, X_test_sel, y_train, y_test)"
   ]
  },
  {
   "cell_type": "markdown",
   "metadata": {},
   "source": [
    "##### GaussianNB model results before and after hyper-parameter tuning is same, Model is better fit to rest of the models"
   ]
  },
  {
   "cell_type": "code",
   "execution_count": 161,
   "metadata": {},
   "outputs": [
    {
     "data": {
      "text/html": [
       "<div>\n",
       "<style scoped>\n",
       "    .dataframe tbody tr th:only-of-type {\n",
       "        vertical-align: middle;\n",
       "    }\n",
       "\n",
       "    .dataframe tbody tr th {\n",
       "        vertical-align: top;\n",
       "    }\n",
       "\n",
       "    .dataframe thead th {\n",
       "        text-align: right;\n",
       "    }\n",
       "</style>\n",
       "<table border=\"1\" class=\"dataframe\">\n",
       "  <thead>\n",
       "    <tr style=\"text-align: right;\">\n",
       "      <th></th>\n",
       "      <th>Model_Name</th>\n",
       "      <th>Accuracy_score_train</th>\n",
       "      <th>roc_auc_score_train</th>\n",
       "      <th>f1_score_train</th>\n",
       "      <th>precision_score_train</th>\n",
       "      <th>recall_score_train</th>\n",
       "      <th>Accuracy_score_test</th>\n",
       "      <th>roc_auc_score_test</th>\n",
       "      <th>f1_score_test</th>\n",
       "      <th>precision_score_test</th>\n",
       "      <th>recall_score_test</th>\n",
       "    </tr>\n",
       "  </thead>\n",
       "  <tbody>\n",
       "    <tr>\n",
       "      <th>0</th>\n",
       "      <td>Logistic Regression</td>\n",
       "      <td>0.877643</td>\n",
       "      <td>0.834437</td>\n",
       "      <td>0.000000</td>\n",
       "      <td>0.000000</td>\n",
       "      <td>0.000000</td>\n",
       "      <td>0.876877</td>\n",
       "      <td>0.833977</td>\n",
       "      <td>0.000000</td>\n",
       "      <td>0.000000</td>\n",
       "      <td>0.000000</td>\n",
       "    </tr>\n",
       "    <tr>\n",
       "      <th>1</th>\n",
       "      <td>Logistic Regression Final base_model</td>\n",
       "      <td>0.782478</td>\n",
       "      <td>0.834043</td>\n",
       "      <td>0.816846</td>\n",
       "      <td>0.705394</td>\n",
       "      <td>0.970124</td>\n",
       "      <td>0.640330</td>\n",
       "      <td>0.834149</td>\n",
       "      <td>0.399743</td>\n",
       "      <td>0.251558</td>\n",
       "      <td>0.972771</td>\n",
       "    </tr>\n",
       "    <tr>\n",
       "      <th>2</th>\n",
       "      <td>DecisionTreeClassifier HyperParameter-tuning</td>\n",
       "      <td>0.803147</td>\n",
       "      <td>0.862823</td>\n",
       "      <td>0.825832</td>\n",
       "      <td>0.740497</td>\n",
       "      <td>0.933397</td>\n",
       "      <td>0.699480</td>\n",
       "      <td>0.846028</td>\n",
       "      <td>0.425192</td>\n",
       "      <td>0.278078</td>\n",
       "      <td>0.902815</td>\n",
       "    </tr>\n",
       "    <tr>\n",
       "      <th>3</th>\n",
       "      <td>RandomForestClassifier HyperParameter-tuning</td>\n",
       "      <td>0.800952</td>\n",
       "      <td>0.868266</td>\n",
       "      <td>0.825789</td>\n",
       "      <td>0.734179</td>\n",
       "      <td>0.943522</td>\n",
       "      <td>0.690500</td>\n",
       "      <td>0.852369</td>\n",
       "      <td>0.426302</td>\n",
       "      <td>0.276177</td>\n",
       "      <td>0.934025</td>\n",
       "    </tr>\n",
       "    <tr>\n",
       "      <th>4</th>\n",
       "      <td>LGBMClassifier</td>\n",
       "      <td>0.825996</td>\n",
       "      <td>0.905526</td>\n",
       "      <td>0.841440</td>\n",
       "      <td>0.772846</td>\n",
       "      <td>0.923396</td>\n",
       "      <td>0.739908</td>\n",
       "      <td>0.849445</td>\n",
       "      <td>0.440882</td>\n",
       "      <td>0.299780</td>\n",
       "      <td>0.832930</td>\n",
       "    </tr>\n",
       "    <tr>\n",
       "      <th>5</th>\n",
       "      <td>GaussianNB</td>\n",
       "      <td>0.716705</td>\n",
       "      <td>0.817081</td>\n",
       "      <td>0.430432</td>\n",
       "      <td>0.285433</td>\n",
       "      <td>0.874858</td>\n",
       "      <td>0.715410</td>\n",
       "      <td>0.817925</td>\n",
       "      <td>0.430670</td>\n",
       "      <td>0.285701</td>\n",
       "      <td>0.874307</td>\n",
       "    </tr>\n",
       "  </tbody>\n",
       "</table>\n",
       "</div>"
      ],
      "text/plain": [
       "                                     Model_Name  Accuracy_score_train  \\\n",
       "0                           Logistic Regression              0.877643   \n",
       "1          Logistic Regression Final base_model              0.782478   \n",
       "2  DecisionTreeClassifier HyperParameter-tuning              0.803147   \n",
       "3  RandomForestClassifier HyperParameter-tuning              0.800952   \n",
       "4                                LGBMClassifier              0.825996   \n",
       "5                                    GaussianNB              0.716705   \n",
       "\n",
       "   roc_auc_score_train  f1_score_train  precision_score_train  \\\n",
       "0             0.834437        0.000000               0.000000   \n",
       "1             0.834043        0.816846               0.705394   \n",
       "2             0.862823        0.825832               0.740497   \n",
       "3             0.868266        0.825789               0.734179   \n",
       "4             0.905526        0.841440               0.772846   \n",
       "5             0.817081        0.430432               0.285433   \n",
       "\n",
       "   recall_score_train  Accuracy_score_test  roc_auc_score_test  f1_score_test  \\\n",
       "0            0.000000             0.876877            0.833977       0.000000   \n",
       "1            0.970124             0.640330            0.834149       0.399743   \n",
       "2            0.933397             0.699480            0.846028       0.425192   \n",
       "3            0.943522             0.690500            0.852369       0.426302   \n",
       "4            0.923396             0.739908            0.849445       0.440882   \n",
       "5            0.874858             0.715410            0.817925       0.430670   \n",
       "\n",
       "   precision_score_test  recall_score_test  \n",
       "0              0.000000           0.000000  \n",
       "1              0.251558           0.972771  \n",
       "2              0.278078           0.902815  \n",
       "3              0.276177           0.934025  \n",
       "4              0.299780           0.832930  \n",
       "5              0.285701           0.874307  "
      ]
     },
     "execution_count": 161,
     "metadata": {},
     "output_type": "execute_result"
    }
   ],
   "source": [
    "## Appending the evaluation metrics in a DataFrame for further reference\n",
    "## We can consider GaussianNB before hyper-parameter tuning\n",
    "\n",
    "gnb = GaussianNB()\n",
    "\n",
    "model_score_card(gnb, 'GaussianNB', X_train_sel, X_test_sel, y_train, y_test)"
   ]
  },
  {
   "cell_type": "markdown",
   "metadata": {},
   "source": [
    "## Overall results of all the models built"
   ]
  },
  {
   "cell_type": "code",
   "execution_count": 165,
   "metadata": {},
   "outputs": [
    {
     "data": {
      "text/html": [
       "<div>\n",
       "<style scoped>\n",
       "    .dataframe tbody tr th:only-of-type {\n",
       "        vertical-align: middle;\n",
       "    }\n",
       "\n",
       "    .dataframe tbody tr th {\n",
       "        vertical-align: top;\n",
       "    }\n",
       "\n",
       "    .dataframe thead th {\n",
       "        text-align: right;\n",
       "    }\n",
       "</style>\n",
       "<table border=\"1\" class=\"dataframe\">\n",
       "  <thead>\n",
       "    <tr style=\"text-align: right;\">\n",
       "      <th></th>\n",
       "      <th>Model_Name</th>\n",
       "      <th>Accuracy_score_train</th>\n",
       "      <th>roc_auc_score_train</th>\n",
       "      <th>f1_score_train</th>\n",
       "      <th>precision_score_train</th>\n",
       "      <th>recall_score_train</th>\n",
       "      <th>Accuracy_score_test</th>\n",
       "      <th>roc_auc_score_test</th>\n",
       "      <th>f1_score_test</th>\n",
       "      <th>precision_score_test</th>\n",
       "      <th>recall_score_test</th>\n",
       "    </tr>\n",
       "  </thead>\n",
       "  <tbody>\n",
       "    <tr>\n",
       "      <th>0</th>\n",
       "      <td>Logistic Regression</td>\n",
       "      <td>0.877643</td>\n",
       "      <td>0.834437</td>\n",
       "      <td>0.000000</td>\n",
       "      <td>0.000000</td>\n",
       "      <td>0.000000</td>\n",
       "      <td>0.876877</td>\n",
       "      <td>0.833977</td>\n",
       "      <td>0.000000</td>\n",
       "      <td>0.000000</td>\n",
       "      <td>0.000000</td>\n",
       "    </tr>\n",
       "    <tr>\n",
       "      <th>1</th>\n",
       "      <td>Logistic Regression Final base_model</td>\n",
       "      <td>0.782478</td>\n",
       "      <td>0.834043</td>\n",
       "      <td>0.816846</td>\n",
       "      <td>0.705394</td>\n",
       "      <td>0.970124</td>\n",
       "      <td>0.640330</td>\n",
       "      <td>0.834149</td>\n",
       "      <td>0.399743</td>\n",
       "      <td>0.251558</td>\n",
       "      <td>0.972771</td>\n",
       "    </tr>\n",
       "    <tr>\n",
       "      <th>2</th>\n",
       "      <td>DecisionTreeClassifier HyperParameter-tuning</td>\n",
       "      <td>0.803147</td>\n",
       "      <td>0.862823</td>\n",
       "      <td>0.825832</td>\n",
       "      <td>0.740497</td>\n",
       "      <td>0.933397</td>\n",
       "      <td>0.699480</td>\n",
       "      <td>0.846028</td>\n",
       "      <td>0.425192</td>\n",
       "      <td>0.278078</td>\n",
       "      <td>0.902815</td>\n",
       "    </tr>\n",
       "    <tr>\n",
       "      <th>3</th>\n",
       "      <td>RandomForestClassifier HyperParameter-tuning</td>\n",
       "      <td>0.800952</td>\n",
       "      <td>0.868266</td>\n",
       "      <td>0.825789</td>\n",
       "      <td>0.734179</td>\n",
       "      <td>0.943522</td>\n",
       "      <td>0.690500</td>\n",
       "      <td>0.852369</td>\n",
       "      <td>0.426302</td>\n",
       "      <td>0.276177</td>\n",
       "      <td>0.934025</td>\n",
       "    </tr>\n",
       "    <tr>\n",
       "      <th>4</th>\n",
       "      <td>LGBMClassifier</td>\n",
       "      <td>0.825996</td>\n",
       "      <td>0.905526</td>\n",
       "      <td>0.841440</td>\n",
       "      <td>0.772846</td>\n",
       "      <td>0.923396</td>\n",
       "      <td>0.739908</td>\n",
       "      <td>0.849445</td>\n",
       "      <td>0.440882</td>\n",
       "      <td>0.299780</td>\n",
       "      <td>0.832930</td>\n",
       "    </tr>\n",
       "    <tr>\n",
       "      <th>5</th>\n",
       "      <td>GaussianNB</td>\n",
       "      <td>0.716705</td>\n",
       "      <td>0.817081</td>\n",
       "      <td>0.430432</td>\n",
       "      <td>0.285433</td>\n",
       "      <td>0.874858</td>\n",
       "      <td>0.715410</td>\n",
       "      <td>0.817925</td>\n",
       "      <td>0.430670</td>\n",
       "      <td>0.285701</td>\n",
       "      <td>0.874307</td>\n",
       "    </tr>\n",
       "  </tbody>\n",
       "</table>\n",
       "</div>"
      ],
      "text/plain": [
       "                                     Model_Name  Accuracy_score_train  \\\n",
       "0                           Logistic Regression              0.877643   \n",
       "1          Logistic Regression Final base_model              0.782478   \n",
       "2  DecisionTreeClassifier HyperParameter-tuning              0.803147   \n",
       "3  RandomForestClassifier HyperParameter-tuning              0.800952   \n",
       "4                                LGBMClassifier              0.825996   \n",
       "5                                    GaussianNB              0.716705   \n",
       "\n",
       "   roc_auc_score_train  f1_score_train  precision_score_train  \\\n",
       "0             0.834437        0.000000               0.000000   \n",
       "1             0.834043        0.816846               0.705394   \n",
       "2             0.862823        0.825832               0.740497   \n",
       "3             0.868266        0.825789               0.734179   \n",
       "4             0.905526        0.841440               0.772846   \n",
       "5             0.817081        0.430432               0.285433   \n",
       "\n",
       "   recall_score_train  Accuracy_score_test  roc_auc_score_test  f1_score_test  \\\n",
       "0            0.000000             0.876877            0.833977       0.000000   \n",
       "1            0.970124             0.640330            0.834149       0.399743   \n",
       "2            0.933397             0.699480            0.846028       0.425192   \n",
       "3            0.943522             0.690500            0.852369       0.426302   \n",
       "4            0.923396             0.739908            0.849445       0.440882   \n",
       "5            0.874858             0.715410            0.817925       0.430670   \n",
       "\n",
       "   precision_score_test  recall_score_test  \n",
       "0              0.000000           0.000000  \n",
       "1              0.251558           0.972771  \n",
       "2              0.278078           0.902815  \n",
       "3              0.276177           0.934025  \n",
       "4              0.299780           0.832930  \n",
       "5              0.285701           0.874307  "
      ]
     },
     "execution_count": 165,
     "metadata": {},
     "output_type": "execute_result"
    }
   ],
   "source": [
    "result_df"
   ]
  },
  {
   "cell_type": "markdown",
   "metadata": {},
   "source": [
    "# Final model selected"
   ]
  },
  {
   "cell_type": "code",
   "execution_count": 196,
   "metadata": {},
   "outputs": [
    {
     "data": {
      "text/plain": [
       "Model_Name               GaussianNB\n",
       "Accuracy_score_train       0.716705\n",
       "roc_auc_score_train        0.817081\n",
       "f1_score_train             0.430432\n",
       "precision_score_train      0.285433\n",
       "recall_score_train         0.874858\n",
       "Accuracy_score_test         0.71541\n",
       "roc_auc_score_test         0.817925\n",
       "f1_score_test               0.43067\n",
       "precision_score_test       0.285701\n",
       "recall_score_test          0.874307\n",
       "Name: 5, dtype: object"
      ]
     },
     "execution_count": 196,
     "metadata": {},
     "output_type": "execute_result"
    }
   ],
   "source": [
    "result_df.iloc[5]"
   ]
  },
  {
   "cell_type": "code",
   "execution_count": 85,
   "metadata": {},
   "outputs": [
    {
     "name": "stdout",
     "output_type": "stream",
     "text": [
      " GaussianNB :\n"
     ]
    },
    {
     "data": {
      "image/png": "[encoded data removed]",
      "text/plain": [
       "<Figure size 1008x360 with 2 Axes>"
      ]
     },
     "metadata": {
      "needs_background": "light"
     },
     "output_type": "display_data"
    }
   ],
   "source": [
    "nb = GaussianNB()\n",
    "nb.fit(X_train_sm, y_train_sm)\n",
    "    \n",
    "    #train datset\n",
    "y_train_sm_pred = nb.predict(X_train_sm)\n",
    "y_train_sm_proba = nb.predict_proba(X_train_sm)[::, 1]\n",
    "    \n",
    "    #test datset\n",
    "y_test_pred = nb.predict(X_test_sel)\n",
    "y_test_proba = nb.predict_proba(X_test_sel)[::, 1]\n",
    "\n",
    "fpr_train,tpr_train,threshold_train = roc_curve(y_train_sm,y_train_sm_proba )\n",
    "fpr_test,tpr_test,threshold_test = roc_curve(y_test,y_test_proba )\n",
    "\n",
    "print(' GaussianNB :')\n",
    "\n",
    "plt.figure(figsize=(14,5))\n",
    "plt.subplot(1,2,1)\n",
    "plt.plot(fpr_train,fpr_train)\n",
    "plt.plot(fpr_train,tpr_train)\n",
    "plt.xlabel('FPR')\n",
    "plt.ylabel('TPR')\n",
    "plt.title('Train Data')\n",
    "\n",
    "plt.subplot(1,2,2)\n",
    "plt.plot(fpr_test,fpr_test)\n",
    "plt.plot(fpr_test,tpr_test)\n",
    "plt.xlabel('FPR')\n",
    "plt.ylabel('TPR')\n",
    "plt.title('Test Data')\n",
    "plt.show()"
   ]
  },
  {
   "cell_type": "markdown",
   "metadata": {},
   "source": [
    "##### This model is better fit compared to other models"
   ]
  },
  {
   "cell_type": "markdown",
   "metadata": {},
   "source": [
    "### Feature importance"
   ]
  },
  {
   "cell_type": "code",
   "execution_count": 170,
   "metadata": {},
   "outputs": [
    {
     "name": "stdout",
     "output_type": "stream",
     "text": [
      "[ 3.46427196e-02  6.30185905e-04 -6.50841998e-02 -9.62784021e-05\n",
      "  9.13419459e-03  2.55575395e-04  3.49017960e-02  3.31022652e-03\n",
      " -6.35192382e-02]\n"
     ]
    }
   ],
   "source": [
    "imps = permutation_importance(gnb, X_test_sel, y_test)\n",
    "print(imps.importances_mean)"
   ]
  },
  {
   "cell_type": "code",
   "execution_count": 173,
   "metadata": {},
   "outputs": [],
   "source": [
    "features = list(X_test_sel.columns)"
   ]
  },
  {
   "cell_type": "code",
   "execution_count": 176,
   "metadata": {},
   "outputs": [
    {
     "name": "stdout",
     "output_type": "stream",
     "text": [
      "Feature ranking:\n",
      "1. Vehicle_Age_< 1 Year (0.034902)\n",
      "2. Age (0.034643)\n",
      "3. Policy_Sales_Channel (0.009134)\n",
      "4. Vehicle_Age_> 2 Years (0.003310)\n",
      "5. Driving_License (0.000630)\n",
      "6. Gender_Male (0.000256)\n",
      "7. Annual_Premium (-0.000096)\n",
      "8. Vehicle_Damage_Yes (-0.063519)\n",
      "9. Previously_Insured (-0.065084)\n"
     ]
    }
   ],
   "source": [
    "# Print the feature ranking\n",
    "importances = imps.importances_mean\n",
    "std = imps.importances_std\n",
    "indices = np.argsort(importances)[::-1]\n",
    "\n",
    "print(\"Feature ranking:\")\n",
    "for f in range(X_test_sel.shape[1]):\n",
    "    print(\"%d. %s (%f)\" % (f + 1, features[indices[f]], importances[indices[f]]))"
   ]
  },
  {
   "cell_type": "code",
   "execution_count": 177,
   "metadata": {},
   "outputs": [],
   "source": [
    "import matplotlib.pyplot as plt"
   ]
  },
  {
   "cell_type": "code",
   "execution_count": 191,
   "metadata": {},
   "outputs": [
    {
     "data": {
      "image/png": "[encoded data removed]",
      "text/plain": [
       "<Figure size 1368x576 with 1 Axes>"
      ]
     },
     "metadata": {
      "needs_background": "light"
     },
     "output_type": "display_data"
    }
   ],
   "source": [
    "plt.figure(figsize=(19, 8))\n",
    "plt.title(\"Feature importances\")\n",
    "plt.bar(range(X_test_sel.shape[1]), importances[indices], color=\"r\", yerr=std[indices], align=\"center\")\n",
    "plt.xticks(range(X_test_sel.shape[1]), [features[indices[i]] for i in range(9)])\n",
    "plt.xlim([-1, X_test_sel.shape[1]])\n",
    "plt.show()"
   ]
  },
  {
   "cell_type": "code",
   "execution_count": 201,
   "metadata": {},
   "outputs": [],
   "source": [
    "#If we remove the less important features, then recall and AUC_score will be reduced"
   ]
  },
  {
   "cell_type": "markdown",
   "metadata": {},
   "source": [
    "#                                                     Thank you"
   ]
  },
  {
   "cell_type": "code",
   "execution_count": 203,
   "metadata": {},
   "outputs": [],
   "source": [
    "from sklearn.model_selection import cross_val_score"
   ]
  },
  {
   "cell_type": "code",
   "execution_count": 206,
   "metadata": {},
   "outputs": [
    {
     "data": {
      "text/plain": [
       "array([0.82049832, 0.81712767, 0.82100735, 0.81562847, 0.81277062,\n",
       "       0.81844751, 0.81693708, 0.81675701, 0.81369735, 0.81778103])"
      ]
     },
     "execution_count": 206,
     "metadata": {},
     "output_type": "execute_result"
    }
   ],
   "source": [
    "gnb = GaussianNB()\n",
    "\n",
    "\n",
    "(cross_val_score(gnb, X_train_sel, y_train, cv=10, n_jobs=1, scoring = 'roc_auc'))"
   ]
  },
  {
   "cell_type": "code",
   "execution_count": 208,
   "metadata": {},
   "outputs": [
    {
     "data": {
      "text/plain": [
       "Model_Name               GaussianNB\n",
       "Accuracy_score_train       0.716705\n",
       "roc_auc_score_train        0.817081\n",
       "f1_score_train             0.430432\n",
       "precision_score_train      0.285433\n",
       "recall_score_train         0.874858\n",
       "Accuracy_score_test         0.71541\n",
       "roc_auc_score_test         0.817925\n",
       "f1_score_test               0.43067\n",
       "precision_score_test       0.285701\n",
       "recall_score_test          0.874307\n",
       "Name: 5, dtype: object"
      ]
     },
     "execution_count": 208,
     "metadata": {},
     "output_type": "execute_result"
    }
   ],
   "source": [
    "result_df.iloc[5]"
   ]
  },
  {
   "cell_type": "code",
   "execution_count": null,
   "metadata": {},
   "outputs": [],
   "source": [
    "X_"
   ]
  }
 ],
 "metadata": {
  "kernelspec": {
   "display_name": "Python 3",
   "language": "python",
   "name": "python3"
  },
  "language_info": {
   "codemirror_mode": {
    "name": "ipython",
    "version": 3
   },
   "file_extension": ".py",
   "mimetype": "text/x-python",
   "name": "python",
   "nbconvert_exporter": "python",
   "pygments_lexer": "ipython3",
   "version": "3.8.5"
  }
 },
 "nbformat": 4,
 "nbformat_minor": 4
}
